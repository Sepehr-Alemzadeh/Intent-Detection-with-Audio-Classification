{
 "cells": [
  {
   "cell_type": "markdown",
   "metadata": {},
   "source": [
    "# Intent Detection with Audio Classification"
   ]
  },
  {
   "cell_type": "markdown",
   "metadata": {},
   "source": [
    "### DSL Final Project (Jan 2023)"
   ]
  },
  {
   "cell_type": "markdown",
   "metadata": {},
   "source": [
    "#### Owners: Sepehr Alemzadeh (314315), Afsoon Abbasi (314427)"
   ]
  },
  {
   "cell_type": "markdown",
   "metadata": {},
   "source": [
    "In this project, we work on an intent detection problem given an audio sample. The goal is to predict both the action requested and the object that is affected by the action. The dataset consists of audio files in WAV format and several attributes such as speakerId, action, object, fluency level, first language spoken, current language used, gender, and age range. We will parse the data into spectogram and use deep learning techniques to read and train a Convolutional Neural Networks model. Our experiments show that a VGG-16 model gives the highest accuracy among all the trained models. "
   ]
  },
  {
   "cell_type": "markdown",
   "metadata": {},
   "source": [
    "## Import Required Packages"
   ]
  },
  {
   "cell_type": "markdown",
   "metadata": {},
   "source": [
    "We begin with importing the required libraries for this implementation. It is notable that in this project we use PyTorch for the deep learning model."
   ]
  },
  {
   "cell_type": "code",
   "execution_count": 89,
   "metadata": {
    "id": "_gH7Li09NWhz"
   },
   "outputs": [],
   "source": [
    "# First we import the required packages for reading and preprocessing\n",
    "# the data and also for visualization\n",
    "\n",
    "import pandas as pd\n",
    "import numpy as np\n",
    "import matplotlib.pyplot as plt\n",
    "import matplotlib as mpl\n",
    "import librosa\n",
    "import librosa.display\n",
    "from scipy.io import wavfile\n",
    "\n",
    "# ----------------------------------------------------------------------------- #\n",
    "\n",
    "# The determination whether to issue a warning message is controlled by \n",
    "# the warning filter which is a sequence of matching rules and actions.\n",
    "# Rules can be added to the filter by calling filterwarnings()\n",
    "\n",
    "import warnings\n",
    "warnings.filterwarnings(\"ignore\")\n",
    "\n",
    "# ----------------------------------------------------------------------------- #\n",
    "\n",
    "# Import the required PyTorch libraries\n",
    "\n",
    "# The torchvision package consists of popular datasets, model architectures,\n",
    "# and common image transformations for computer vision. For more information\n",
    "# see: https://pytorch.org/vision/stable/index.html\n",
    "\n",
    "import torchvision \n",
    "\n",
    "# The torchaudio package is a library for audio and signal processing with\n",
    "# PyTorch. It provides I/O, signal and data processing functions, datasets, \n",
    "# models implementations and application components. For more information\n",
    "# please see: https://pytorch.org/audio/stable/index.html\n",
    "\n",
    "import torchaudio\n",
    "\n",
    "# The torch.utils.data package is a library for data loading, handling, and\n",
    "# preprocessing. At the heart of PyTorch data loading utility is the library\n",
    "# torch.utils.data.DataLoader class. It represents a Python iterable over a\n",
    "# dataset. For more info see: https://pytorch.org/docs/stable/data.html#\n",
    "\n",
    "from torch.utils.data import DataLoader, random_split, Dataset\n",
    "\n",
    "# ----------------------------------------------------------------------------- #\n",
    "\n",
    "# Additional packages for data handling, model and training\n",
    "\n",
    "# We use the dataloader class to obtain the wavefor and output labels given\n",
    "# audio signals. This class uses torch library Dataset to do this.\n",
    "\n",
    "from dataloader import *\n",
    "\n",
    "# We use the dataset class to load data from the source, trim the data length\n",
    "# to get consistent audio duration throughout training, determine the waveform\n",
    "# and labels, and convert data into torch's tensor data type for model training\n",
    "# and testing\n",
    "\n",
    "from dataset import ProjectAudioCommandDataset\n",
    "\n",
    "# The package train_utils is where we define the train and test methods in the\n",
    "# training and validation phase. The overall learning is via a backpropagation\n",
    "# scheme for different neural networks models\n",
    "\n",
    "from train_utils import *\n",
    "\n",
    "# We train different models and compare the final results. The model package\n",
    "# includes all those models\n",
    "\n",
    "from model import *"
   ]
  },
  {
   "cell_type": "markdown",
   "metadata": {},
   "source": [
    "## Audio Files Durations"
   ]
  },
  {
   "cell_type": "markdown",
   "metadata": {},
   "source": [
    "For our model, we need to have transformed audio files with consistent durations. We take a look at the histogram that consists of all files durations to get a better understanding of the data files."
   ]
  },
  {
   "cell_type": "code",
   "execution_count": 90,
   "metadata": {},
   "outputs": [
    {
     "name": "stdout",
     "output_type": "stream",
     "text": [
      "Wall time: 2min 17s\n"
     ]
    }
   ],
   "source": [
    "%%time\n",
    "\n",
    "dur_list = []\n",
    "data = pd.read_csv(\"./dsl_data/development.csv\", index_col=None)\n",
    "\n",
    "for x in data['path']:\n",
    "    sample_rate, waveform = wavfile.read(x)\n",
    "    duration = len(waveform) / sample_rate\n",
    "    dur_list.append(duration)"
   ]
  },
  {
   "cell_type": "code",
   "execution_count": 91,
   "metadata": {
    "scrolled": false
   },
   "outputs": [
    {
     "data": {
      "image/png": "[encoded data removed]",
      "text/plain": [
       "<Figure size 600x300 with 1 Axes>"
      ]
     },
     "metadata": {},
     "output_type": "display_data"
    }
   ],
   "source": [
    "mpl.rcParams['figure.figsize'] = (6, 3)\n",
    "mpl.rcParams['font.size'] = 10\n",
    "\n",
    "plt.hist(dur_list, bins=25)\n",
    "plt.title('Distribution of Durations')\n",
    "plt.xlabel('Duration (s)')\n",
    "plt.ylabel('Count')\n",
    "plt.grid()\n",
    "plt.show()"
   ]
  },
  {
   "cell_type": "markdown",
   "metadata": {},
   "source": [
    "## Define Train/Test Sets"
   ]
  },
  {
   "cell_type": "markdown",
   "metadata": {},
   "source": [
    "We use the ProjectAudioCommandDataset class from the dataset package to import train and test dataset in the form of torch tensors. We keep 10% of the given data set for validation on each epoch of the training."
   ]
  },
  {
   "cell_type": "code",
   "execution_count": 93,
   "metadata": {},
   "outputs": [],
   "source": [
    "train_set = ProjectAudioCommandDataset(subset=\"training\")\n",
    "test_set = ProjectAudioCommandDataset(subset=\"testing\")"
   ]
  },
  {
   "cell_type": "code",
   "execution_count": 94,
   "metadata": {},
   "outputs": [
    {
     "name": "stdout",
     "output_type": "stream",
     "text": [
      "Length of dataset for training phase: 9854\n",
      "Length of dataset for testing phase: 1455\n"
     ]
    }
   ],
   "source": [
    "# The length of each imported dataset should be equivalent to the given\n",
    "# development.csv and evaluation.csv files in the project dataset\n",
    "\n",
    "print(\"Length of dataset for training phase: {}\".format(len(train_set)))\n",
    "print(\"Length of dataset for testing phase: {}\".format(len(test_set)))"
   ]
  },
  {
   "cell_type": "markdown",
   "metadata": {},
   "source": [
    "## Insights on the Audio WAV Files"
   ]
  },
  {
   "cell_type": "code",
   "execution_count": 95,
   "metadata": {},
   "outputs": [],
   "source": [
    "# Choose the first audio file in the training set\n",
    "waveform, sample_rate, label, speaker_id = train_set[0]"
   ]
  },
  {
   "cell_type": "code",
   "execution_count": 96,
   "metadata": {
    "scrolled": true
   },
   "outputs": [
    {
     "name": "stdout",
     "output_type": "stream",
     "text": [
      "Shape of waveform: torch.Size([1, 80000])\n",
      "Sample rate of waveform: 16000\n",
      "The label of the data: change language\n"
     ]
    }
   ],
   "source": [
    "print(\"Shape of waveform: {}\".format(waveform.size()))\n",
    "print(\"Sample rate of waveform: {}\".format(sample_rate))\n",
    "print(\"The label of the data: {}\".format(label))"
   ]
  },
  {
   "cell_type": "markdown",
   "metadata": {},
   "source": [
    "#### Listen to the sampled audio file"
   ]
  },
  {
   "cell_type": "code",
   "execution_count": 97,
   "metadata": {},
   "outputs": [
    {
     "data": {
      "text/html": [
       "\n",
       "                <audio  controls=\"controls\" >\n",
       "                    <source src=\"data:audio/wav;base64,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\" type=\"audio/wav\" />\n",
       "                    Your browser does not support the audio element.\n",
       "                </audio>\n",
       "              "
      ],
      "text/plain": [
       "<IPython.lib.display.Audio object>"
      ]
     },
     "execution_count": 97,
     "metadata": {},
     "output_type": "execute_result"
    }
   ],
   "source": [
    "import IPython\n",
    "\n",
    "wav_file = './dsl_data/audio/speakers/2BqVo8kVB2Skwgyb/0a3129c0-4474-11e9-a9a5-5dbec3b8816a.wav'\n",
    "IPython.display.Audio(wav_file)"
   ]
  },
  {
   "cell_type": "markdown",
   "metadata": {},
   "source": [
    "#### Representation of the Recording in Time-Domain"
   ]
  },
  {
   "cell_type": "code",
   "execution_count": 103,
   "metadata": {},
   "outputs": [
    {
     "data": {
      "image/png": "[encoded data removed]",
      "text/plain": [
       "<Figure size 900x300 with 1 Axes>"
      ]
     },
     "metadata": {},
     "output_type": "display_data"
    }
   ],
   "source": [
    "mpl.rcParams['figure.figsize'] = (9, 3)\n",
    "\n",
    "plt.plot(list(waveform[0]))\n",
    "plt.title('Time-Domain Representation')\n",
    "plt.xlabel('Time (s)')\n",
    "plt.ylabel('Amplitude')\n",
    "plt.grid()\n",
    "plt.show()"
   ]
  },
  {
   "cell_type": "markdown",
   "metadata": {},
   "source": [
    "#### Representation in the Frequency-Domain "
   ]
  },
  {
   "cell_type": "markdown",
   "metadata": {},
   "source": [
    "Finding the signal in frequency domain"
   ]
  },
  {
   "cell_type": "code",
   "execution_count": 10,
   "metadata": {},
   "outputs": [],
   "source": [
    "# Use fft to convert time to frequency\n",
    "from numpy.fft import fft\n",
    "\n",
    "freq_sample = fft(waveform)[0:(sample_rate//2)]\n",
    "\n",
    "N = len(freq_sample[0])\n",
    "n = np.arange(N)\n",
    "T = N / sample_rate\n",
    "freq = n / T "
   ]
  },
  {
   "cell_type": "code",
   "execution_count": 49,
   "metadata": {
    "scrolled": false
   },
   "outputs": [
    {
     "data": {
      "image/png": "[encoded data removed]",
      "text/plain": [
       "<Figure size 1000x400 with 1 Axes>"
      ]
     },
     "metadata": {},
     "output_type": "display_data"
    }
   ],
   "source": [
    "mpl.rcParams['figure.figsize'] = (10, 4)\n",
    "\n",
    "plt.stem(freq[:N//2], np.abs(freq_sample[0])[:N//2], 'b', markerfmt = \" \", basefmt = \"-b\")\n",
    "plt.title('Frequency-Domain Representation')\n",
    "plt.xlabel('Freq (Hz)')\n",
    "plt.ylabel('Amplitude (Energy)')\n",
    "plt.grid()\n",
    "plt.show()"
   ]
  },
  {
   "cell_type": "markdown",
   "metadata": {},
   "source": [
    "#### Mel-Spectogram Plot"
   ]
  },
  {
   "cell_type": "markdown",
   "metadata": {},
   "source": [
    "Finding the spectogram matrix to take advantage of both time and frequency domains"
   ]
  },
  {
   "cell_type": "code",
   "execution_count": 12,
   "metadata": {
    "scrolled": true
   },
   "outputs": [
    {
     "data": {
      "image/png": "[encoded data removed]",
      "text/plain": [
       "<Figure size 1800x400 with 2 Axes>"
      ]
     },
     "metadata": {},
     "output_type": "display_data"
    }
   ],
   "source": [
    "# We use the Python librosa package to find the mfcc 2d signal\n",
    "mfcc_signal = librosa.feature.mfcc(y=train_set[0][0].squeeze().numpy(), sr=sample_rate, n_mfcc=20)\n",
    "\n",
    "plt.figure(figsize=(18, 4))\n",
    "mpl.rcParams['font.size'] = 16\n",
    "\n",
    "librosa.display.specshow(mfcc_signal.squeeze(), sr=sample_rate, x_axis='time', y_axis='hz')\n",
    "plt.xlabel('Time (s)')\n",
    "plt.ylabel('Hz')\n",
    "plt.title('MFCC (Mel Frequency Cepstral Coefficients)')\n",
    "plt.colorbar()\n",
    "plt.show()"
   ]
  },
  {
   "cell_type": "markdown",
   "metadata": {},
   "source": [
    "## Define Features and Labels for Training"
   ]
  },
  {
   "cell_type": "markdown",
   "metadata": {},
   "source": [
    "We extract the wave signals and output labels into two distinct python lists for training. To this end, we need to make sure the length of the waveforms are consistent, hence filter out data based on common length of 80000 elements."
   ]
  },
  {
   "cell_type": "code",
   "execution_count": 13,
   "metadata": {},
   "outputs": [
    {
     "name": "stdout",
     "output_type": "stream",
     "text": [
      "Wall time: 3min 5s\n"
     ]
    }
   ],
   "source": [
    "%%time\n",
    "\n",
    "wave = []\n",
    "labels = []\n",
    "for i in range(0, len(train_set)):\n",
    "    if train_set[i][0].size(1) == 80000:\n",
    "        wave.append(train_set[i][0])\n",
    "        labels.append(train_set[i][2])"
   ]
  },
  {
   "cell_type": "markdown",
   "metadata": {},
   "source": [
    "#### Define Classification Labels"
   ]
  },
  {
   "cell_type": "code",
   "execution_count": 14,
   "metadata": {},
   "outputs": [
    {
     "data": {
      "text/plain": [
       "['change language',\n",
       " 'activatemusic',\n",
       " 'deactivatelights',\n",
       " 'increasevolume',\n",
       " 'decreasevolume',\n",
       " 'increaseheat',\n",
       " 'decreaseheat']"
      ]
     },
     "execution_count": 14,
     "metadata": {},
     "output_type": "execute_result"
    }
   ],
   "source": [
    "labels_dict = train_set.classes\n",
    "labels_dict"
   ]
  },
  {
   "cell_type": "markdown",
   "metadata": {},
   "source": [
    "#### Choose Training Model"
   ]
  },
  {
   "cell_type": "markdown",
   "metadata": {},
   "source": [
    "At this point, we are well-equipped to pick the training model followed by the integration of data for training epochs."
   ]
  },
  {
   "cell_type": "code",
   "execution_count": 79,
   "metadata": {},
   "outputs": [
    {
     "name": "stdout",
     "output_type": "stream",
     "text": [
      "MFCC with VGG16 Model\n"
     ]
    }
   ],
   "source": [
    "# Choose the data transformation type here and the employed model\n",
    "transform_type = 3\n",
    "\n",
    "if transform_type == 1:\n",
    "    print(\"No Data Transformation - Simple 1d Audio Analysis\")\n",
    "    train_audio_transforms = None\n",
    "    net = NN(num_class=len(labels_dict))\n",
    "    results_txt = 'waveform'\n",
    "    model_name = 'NN'\n",
    "    \n",
    "elif transform_type == 2:\n",
    "    print(\"MFCC Features Classification\")\n",
    "    train_audio_transforms = nn.Sequential(\n",
    "        torchaudio.transforms.MFCC(log_mels=False)\n",
    "    )\n",
    "    net = NN2D(num_class=len(labels_dict))\n",
    "    results_txt = 'MFCC'\n",
    "    model_name = 'NN2D'\n",
    "    \n",
    "else:\n",
    "    print(\"MFCC with VGG16 Model\")\n",
    "    train_audio_transforms = nn.Sequential(\n",
    "        torchaudio.transforms.MFCC(log_mels=False),\n",
    "    )\n",
    "    net = VGG16(num_classes=len(labels_dict))\n",
    "    results_txt = 'MFCC_VGG16'\n",
    "    model_name = 'VGG16'"
   ]
  },
  {
   "cell_type": "markdown",
   "metadata": {},
   "source": [
    "#### Prepare Train/Test Data"
   ]
  },
  {
   "cell_type": "code",
   "execution_count": 80,
   "metadata": {},
   "outputs": [],
   "source": [
    "# Define dataset\n",
    "dataset = SpeechDataLoader(wave, labels, labels_dict, train_audio_transforms)\n",
    "\n",
    "# Split data into train/test\n",
    "traindata, testdata = random_split(dataset, [round(len(dataset) * .9), round(len(dataset) * .1)])\n",
    "\n",
    "# Putting train data into torch DataLoader format\n",
    "trainloader = torch.utils.data.DataLoader(dataset, batch_size=32, shuffle=True)\n",
    "\n",
    "# Putting test data into torch DataLoader format\n",
    "valloader = torch.utils.data.DataLoader(testdata, batch_size=32, shuffle=True)"
   ]
  },
  {
   "cell_type": "markdown",
   "metadata": {},
   "source": [
    "#### Model Spec and Hyperparameters"
   ]
  },
  {
   "cell_type": "code",
   "execution_count": 81,
   "metadata": {},
   "outputs": [],
   "source": [
    "# We prefer GPU to run 2d CNNs, but if the device does not have GPU, we choose CPU\n",
    "device = torch.device('cuda:0' if torch.cuda.is_available() else 'cpu')\n",
    "\n",
    "net = net.to(device)"
   ]
  },
  {
   "cell_type": "code",
   "execution_count": 82,
   "metadata": {},
   "outputs": [],
   "source": [
    "# Choose number of epochs\n",
    "num_epochs = 100\n",
    "\n",
    "# Choose loss function\n",
    "criterion = nn.CrossEntropyLoss()\n",
    "\n",
    "# Choose optimization technique\n",
    "optimizer = torch.optim.Adam(net.parameters(), lr=0.001)\n",
    "\n",
    "# Set the learning rate according to the 1cycle learning rate policy\n",
    "# See here: https://pytorch.org/docs/stable/generated/torch.optim.lr_scheduler.OneCycleLR.html\n",
    "scheduler = torch.optim.lr_scheduler.OneCycleLR(optimizer, max_lr=0.001,\n",
    "                                                steps_per_epoch=int(len(trainloader)),\n",
    "                                                epochs=num_epochs,\n",
    "                                                anneal_strategy='linear')"
   ]
  },
  {
   "cell_type": "markdown",
   "metadata": {},
   "source": [
    "#### Model Training"
   ]
  },
  {
   "cell_type": "markdown",
   "metadata": {},
   "source": [
    "#### Model 1"
   ]
  },
  {
   "cell_type": "code",
   "execution_count": 55,
   "metadata": {
    "scrolled": true
   },
   "outputs": [
    {
     "name": "stdout",
     "output_type": "stream",
     "text": [
      "Training\n"
     ]
    },
    {
     "name": "stderr",
     "output_type": "stream",
     "text": [
      "100%|████████████████████████████████████████████████████████████████████████████████| 299/299 [05:06<00:00,  1.02s/it]\n"
     ]
    },
    {
     "name": "stdout",
     "output_type": "stream",
     "text": [
      "Epoch: [1]  loss: [6.89] Accuracy [19.16] \n",
      "validation\n"
     ]
    },
    {
     "name": "stderr",
     "output_type": "stream",
     "text": [
      "100%|██████████████████████████████████████████████████████████████████████████████████| 30/30 [00:12<00:00,  2.47it/s]\n"
     ]
    },
    {
     "name": "stdout",
     "output_type": "stream",
     "text": [
      "\n",
      "Validation Epoch #1\t\t\tLoss: 1.9192 Acc@1: 23.66%\n",
      "Training\n"
     ]
    },
    {
     "name": "stderr",
     "output_type": "stream",
     "text": [
      "100%|████████████████████████████████████████████████████████████████████████████████| 299/299 [04:57<00:00,  1.00it/s]\n"
     ]
    },
    {
     "name": "stdout",
     "output_type": "stream",
     "text": [
      "Epoch: [2]  loss: [2.05] Accuracy [24.37] \n",
      "validation\n"
     ]
    },
    {
     "name": "stderr",
     "output_type": "stream",
     "text": [
      "100%|██████████████████████████████████████████████████████████████████████████████████| 30/30 [00:11<00:00,  2.70it/s]\n"
     ]
    },
    {
     "name": "stdout",
     "output_type": "stream",
     "text": [
      "\n",
      "Validation Epoch #2\t\t\tLoss: 1.9075 Acc@1: 23.98%\n",
      "Training\n"
     ]
    },
    {
     "name": "stderr",
     "output_type": "stream",
     "text": [
      "100%|████████████████████████████████████████████████████████████████████████████████| 299/299 [05:04<00:00,  1.02s/it]\n"
     ]
    },
    {
     "name": "stdout",
     "output_type": "stream",
     "text": [
      "Epoch: [3]  loss: [2.04] Accuracy [24.60] \n",
      "validation\n"
     ]
    },
    {
     "name": "stderr",
     "output_type": "stream",
     "text": [
      "100%|██████████████████████████████████████████████████████████████████████████████████| 30/30 [00:11<00:00,  2.56it/s]\n"
     ]
    },
    {
     "name": "stdout",
     "output_type": "stream",
     "text": [
      "\n",
      "Validation Epoch #3\t\t\tLoss: 1.8978 Acc@1: 22.93%\n",
      "Training\n"
     ]
    },
    {
     "name": "stderr",
     "output_type": "stream",
     "text": [
      "100%|████████████████████████████████████████████████████████████████████████████████| 299/299 [04:59<00:00,  1.00s/it]\n"
     ]
    },
    {
     "name": "stdout",
     "output_type": "stream",
     "text": [
      "Epoch: [4]  loss: [1.93] Accuracy [24.46] \n",
      "validation\n"
     ]
    },
    {
     "name": "stderr",
     "output_type": "stream",
     "text": [
      "100%|██████████████████████████████████████████████████████████████████████████████████| 30/30 [00:11<00:00,  2.66it/s]\n"
     ]
    },
    {
     "name": "stdout",
     "output_type": "stream",
     "text": [
      "\n",
      "Validation Epoch #4\t\t\tLoss: 1.8864 Acc@1: 22.62%\n",
      "Training\n"
     ]
    },
    {
     "name": "stderr",
     "output_type": "stream",
     "text": [
      "100%|████████████████████████████████████████████████████████████████████████████████| 299/299 [05:26<00:00,  1.09s/it]\n"
     ]
    },
    {
     "name": "stdout",
     "output_type": "stream",
     "text": [
      "Epoch: [5]  loss: [1.89] Accuracy [24.39] \n",
      "validation\n"
     ]
    },
    {
     "name": "stderr",
     "output_type": "stream",
     "text": [
      "100%|██████████████████████████████████████████████████████████████████████████████████| 30/30 [00:11<00:00,  2.60it/s]\n"
     ]
    },
    {
     "name": "stdout",
     "output_type": "stream",
     "text": [
      "\n",
      "Validation Epoch #5\t\t\tLoss: 1.8669 Acc@1: 23.87%\n",
      "Training\n"
     ]
    },
    {
     "name": "stderr",
     "output_type": "stream",
     "text": [
      "100%|████████████████████████████████████████████████████████████████████████████████| 299/299 [05:42<00:00,  1.14s/it]\n"
     ]
    },
    {
     "name": "stdout",
     "output_type": "stream",
     "text": [
      "Epoch: [6]  loss: [1.88] Accuracy [24.59] \n",
      "validation\n"
     ]
    },
    {
     "name": "stderr",
     "output_type": "stream",
     "text": [
      "100%|██████████████████████████████████████████████████████████████████████████████████| 30/30 [00:12<00:00,  2.33it/s]\n"
     ]
    },
    {
     "name": "stdout",
     "output_type": "stream",
     "text": [
      "\n",
      "Validation Epoch #6\t\t\tLoss: 1.8564 Acc@1: 23.25%\n",
      "Training\n"
     ]
    },
    {
     "name": "stderr",
     "output_type": "stream",
     "text": [
      "100%|████████████████████████████████████████████████████████████████████████████████| 299/299 [05:31<00:00,  1.11s/it]\n"
     ]
    },
    {
     "name": "stdout",
     "output_type": "stream",
     "text": [
      "Epoch: [7]  loss: [1.86] Accuracy [25.29] \n",
      "validation\n"
     ]
    },
    {
     "name": "stderr",
     "output_type": "stream",
     "text": [
      "100%|██████████████████████████████████████████████████████████████████████████████████| 30/30 [00:11<00:00,  2.65it/s]\n"
     ]
    },
    {
     "name": "stdout",
     "output_type": "stream",
     "text": [
      "\n",
      "Validation Epoch #7\t\t\tLoss: 1.8450 Acc@1: 24.71%\n",
      "Training\n"
     ]
    },
    {
     "name": "stderr",
     "output_type": "stream",
     "text": [
      "100%|████████████████████████████████████████████████████████████████████████████████| 299/299 [05:17<00:00,  1.06s/it]\n"
     ]
    },
    {
     "name": "stdout",
     "output_type": "stream",
     "text": [
      "Epoch: [8]  loss: [1.85] Accuracy [25.48] \n",
      "validation\n"
     ]
    },
    {
     "name": "stderr",
     "output_type": "stream",
     "text": [
      "100%|██████████████████████████████████████████████████████████████████████████████████| 30/30 [00:11<00:00,  2.65it/s]\n"
     ]
    },
    {
     "name": "stdout",
     "output_type": "stream",
     "text": [
      "\n",
      "Validation Epoch #8\t\t\tLoss: 1.8377 Acc@1: 25.45%\n",
      "Training\n"
     ]
    },
    {
     "name": "stderr",
     "output_type": "stream",
     "text": [
      "100%|████████████████████████████████████████████████████████████████████████████████| 299/299 [05:10<00:00,  1.04s/it]\n"
     ]
    },
    {
     "name": "stdout",
     "output_type": "stream",
     "text": [
      "Epoch: [9]  loss: [1.83] Accuracy [25.58] \n",
      "validation\n"
     ]
    },
    {
     "name": "stderr",
     "output_type": "stream",
     "text": [
      "100%|██████████████████████████████████████████████████████████████████████████████████| 30/30 [00:10<00:00,  2.75it/s]\n"
     ]
    },
    {
     "name": "stdout",
     "output_type": "stream",
     "text": [
      "\n",
      "Validation Epoch #9\t\t\tLoss: 1.8353 Acc@1: 26.81%\n",
      "Training\n"
     ]
    },
    {
     "name": "stderr",
     "output_type": "stream",
     "text": [
      "100%|████████████████████████████████████████████████████████████████████████████████| 299/299 [05:09<00:00,  1.04s/it]\n"
     ]
    },
    {
     "name": "stdout",
     "output_type": "stream",
     "text": [
      "Epoch: [10]  loss: [1.82] Accuracy [26.82] \n",
      "validation\n"
     ]
    },
    {
     "name": "stderr",
     "output_type": "stream",
     "text": [
      "100%|██████████████████████████████████████████████████████████████████████████████████| 30/30 [00:11<00:00,  2.65it/s]\n"
     ]
    },
    {
     "name": "stdout",
     "output_type": "stream",
     "text": [
      "\n",
      "Validation Epoch #10\t\t\tLoss: 1.8305 Acc@1: 27.64%\n",
      "not multiple GPU\n",
      "Training\n"
     ]
    },
    {
     "name": "stderr",
     "output_type": "stream",
     "text": [
      "100%|████████████████████████████████████████████████████████████████████████████████| 299/299 [05:12<00:00,  1.05s/it]\n"
     ]
    },
    {
     "name": "stdout",
     "output_type": "stream",
     "text": [
      "Epoch: [11]  loss: [1.81] Accuracy [26.21] \n",
      "validation\n"
     ]
    },
    {
     "name": "stderr",
     "output_type": "stream",
     "text": [
      "100%|██████████████████████████████████████████████████████████████████████████████████| 30/30 [00:11<00:00,  2.56it/s]\n"
     ]
    },
    {
     "name": "stdout",
     "output_type": "stream",
     "text": [
      "\n",
      "Validation Epoch #11\t\t\tLoss: 1.8485 Acc@1: 27.02%\n",
      "Training\n"
     ]
    },
    {
     "name": "stderr",
     "output_type": "stream",
     "text": [
      "100%|████████████████████████████████████████████████████████████████████████████████| 299/299 [05:17<00:00,  1.06s/it]\n"
     ]
    },
    {
     "name": "stdout",
     "output_type": "stream",
     "text": [
      "Epoch: [12]  loss: [1.81] Accuracy [27.15] \n",
      "validation\n"
     ]
    },
    {
     "name": "stderr",
     "output_type": "stream",
     "text": [
      "100%|██████████████████████████████████████████████████████████████████████████████████| 30/30 [00:11<00:00,  2.65it/s]\n"
     ]
    },
    {
     "name": "stdout",
     "output_type": "stream",
     "text": [
      "\n",
      "Validation Epoch #12\t\t\tLoss: 1.8344 Acc@1: 27.02%\n",
      "Training\n"
     ]
    },
    {
     "name": "stderr",
     "output_type": "stream",
     "text": [
      "100%|████████████████████████████████████████████████████████████████████████████████| 299/299 [05:25<00:00,  1.09s/it]\n"
     ]
    },
    {
     "name": "stdout",
     "output_type": "stream",
     "text": [
      "Epoch: [13]  loss: [1.80] Accuracy [27.04] \n",
      "validation\n"
     ]
    },
    {
     "name": "stderr",
     "output_type": "stream",
     "text": [
      "100%|██████████████████████████████████████████████████████████████████████████████████| 30/30 [00:11<00:00,  2.56it/s]\n"
     ]
    },
    {
     "name": "stdout",
     "output_type": "stream",
     "text": [
      "\n",
      "Validation Epoch #13\t\t\tLoss: 1.8388 Acc@1: 27.12%\n",
      "Training\n"
     ]
    },
    {
     "name": "stderr",
     "output_type": "stream",
     "text": [
      "100%|████████████████████████████████████████████████████████████████████████████████| 299/299 [05:23<00:00,  1.08s/it]\n"
     ]
    },
    {
     "name": "stdout",
     "output_type": "stream",
     "text": [
      "Epoch: [14]  loss: [1.80] Accuracy [27.21] \n",
      "validation\n"
     ]
    },
    {
     "name": "stderr",
     "output_type": "stream",
     "text": [
      "100%|██████████████████████████████████████████████████████████████████████████████████| 30/30 [00:10<00:00,  2.75it/s]\n"
     ]
    },
    {
     "name": "stdout",
     "output_type": "stream",
     "text": [
      "\n",
      "Validation Epoch #14\t\t\tLoss: 1.8286 Acc@1: 27.33%\n",
      "Training\n"
     ]
    },
    {
     "name": "stderr",
     "output_type": "stream",
     "text": [
      "100%|████████████████████████████████████████████████████████████████████████████████| 299/299 [05:27<00:00,  1.10s/it]\n"
     ]
    },
    {
     "name": "stdout",
     "output_type": "stream",
     "text": [
      "Epoch: [15]  loss: [1.74] Accuracy [29.23] \n",
      "validation\n"
     ]
    },
    {
     "name": "stderr",
     "output_type": "stream",
     "text": [
      "100%|██████████████████████████████████████████████████████████████████████████████████| 30/30 [00:11<00:00,  2.64it/s]\n"
     ]
    },
    {
     "name": "stdout",
     "output_type": "stream",
     "text": [
      "\n",
      "Validation Epoch #15\t\t\tLoss: 1.7913 Acc@1: 24.50%\n",
      "Training\n"
     ]
    },
    {
     "name": "stderr",
     "output_type": "stream",
     "text": [
      "100%|████████████████████████████████████████████████████████████████████████████████| 299/299 [05:28<00:00,  1.10s/it]\n"
     ]
    },
    {
     "name": "stdout",
     "output_type": "stream",
     "text": [
      "Epoch: [16]  loss: [1.67] Accuracy [30.94] \n",
      "validation\n"
     ]
    },
    {
     "name": "stderr",
     "output_type": "stream",
     "text": [
      "100%|██████████████████████████████████████████████████████████████████████████████████| 30/30 [00:11<00:00,  2.67it/s]\n"
     ]
    },
    {
     "name": "stdout",
     "output_type": "stream",
     "text": [
      "\n",
      "Validation Epoch #16\t\t\tLoss: 1.6495 Acc@1: 33.09%\n",
      "not multiple GPU\n",
      "Training\n"
     ]
    },
    {
     "name": "stderr",
     "output_type": "stream",
     "text": [
      "100%|████████████████████████████████████████████████████████████████████████████████| 299/299 [05:30<00:00,  1.11s/it]\n"
     ]
    },
    {
     "name": "stdout",
     "output_type": "stream",
     "text": [
      "Epoch: [17]  loss: [1.64] Accuracy [31.49] \n",
      "validation\n"
     ]
    },
    {
     "name": "stderr",
     "output_type": "stream",
     "text": [
      "100%|██████████████████████████████████████████████████████████████████████████████████| 30/30 [00:11<00:00,  2.60it/s]\n"
     ]
    },
    {
     "name": "stdout",
     "output_type": "stream",
     "text": [
      "\n",
      "Validation Epoch #17\t\t\tLoss: 1.7319 Acc@1: 29.63%\n",
      "Training\n"
     ]
    },
    {
     "name": "stderr",
     "output_type": "stream",
     "text": [
      "100%|████████████████████████████████████████████████████████████████████████████████| 299/299 [05:33<00:00,  1.11s/it]\n"
     ]
    },
    {
     "name": "stdout",
     "output_type": "stream",
     "text": [
      "Epoch: [18]  loss: [1.61] Accuracy [32.58] \n",
      "validation\n"
     ]
    },
    {
     "name": "stderr",
     "output_type": "stream",
     "text": [
      "100%|██████████████████████████████████████████████████████████████████████████████████| 30/30 [00:11<00:00,  2.65it/s]\n"
     ]
    },
    {
     "name": "stdout",
     "output_type": "stream",
     "text": [
      "\n",
      "Validation Epoch #18\t\t\tLoss: 1.6115 Acc@1: 35.92%\n",
      "not multiple GPU\n",
      "Training\n"
     ]
    },
    {
     "name": "stderr",
     "output_type": "stream",
     "text": [
      "100%|████████████████████████████████████████████████████████████████████████████████| 299/299 [05:32<00:00,  1.11s/it]\n"
     ]
    },
    {
     "name": "stdout",
     "output_type": "stream",
     "text": [
      "Epoch: [19]  loss: [1.60] Accuracy [33.24] \n",
      "validation\n"
     ]
    },
    {
     "name": "stderr",
     "output_type": "stream",
     "text": [
      "100%|██████████████████████████████████████████████████████████████████████████████████| 30/30 [00:11<00:00,  2.67it/s]\n"
     ]
    },
    {
     "name": "stdout",
     "output_type": "stream",
     "text": [
      "\n",
      "Validation Epoch #19\t\t\tLoss: 1.6130 Acc@1: 33.61%\n",
      "Training\n"
     ]
    },
    {
     "name": "stderr",
     "output_type": "stream",
     "text": [
      "100%|████████████████████████████████████████████████████████████████████████████████| 299/299 [05:33<00:00,  1.12s/it]\n"
     ]
    },
    {
     "name": "stdout",
     "output_type": "stream",
     "text": [
      "Epoch: [20]  loss: [1.57] Accuracy [34.22] \n",
      "validation\n"
     ]
    },
    {
     "name": "stderr",
     "output_type": "stream",
     "text": [
      "100%|██████████████████████████████████████████████████████████████████████████████████| 30/30 [00:11<00:00,  2.69it/s]\n"
     ]
    },
    {
     "name": "stdout",
     "output_type": "stream",
     "text": [
      "\n",
      "Validation Epoch #20\t\t\tLoss: 1.5431 Acc@1: 36.23%\n",
      "not multiple GPU\n",
      "Training\n"
     ]
    },
    {
     "name": "stderr",
     "output_type": "stream",
     "text": [
      "100%|████████████████████████████████████████████████████████████████████████████████| 299/299 [05:35<00:00,  1.12s/it]\n"
     ]
    },
    {
     "name": "stdout",
     "output_type": "stream",
     "text": [
      "Epoch: [21]  loss: [1.56] Accuracy [33.90] \n",
      "validation\n"
     ]
    },
    {
     "name": "stderr",
     "output_type": "stream",
     "text": [
      "100%|██████████████████████████████████████████████████████████████████████████████████| 30/30 [00:11<00:00,  2.67it/s]\n"
     ]
    },
    {
     "name": "stdout",
     "output_type": "stream",
     "text": [
      "\n",
      "Validation Epoch #21\t\t\tLoss: 1.5535 Acc@1: 36.65%\n",
      "not multiple GPU\n",
      "Training\n"
     ]
    },
    {
     "name": "stderr",
     "output_type": "stream",
     "text": [
      "100%|████████████████████████████████████████████████████████████████████████████████| 299/299 [05:35<00:00,  1.12s/it]\n"
     ]
    },
    {
     "name": "stdout",
     "output_type": "stream",
     "text": [
      "Epoch: [22]  loss: [1.55] Accuracy [35.11] \n",
      "validation\n"
     ]
    },
    {
     "name": "stderr",
     "output_type": "stream",
     "text": [
      "100%|██████████████████████████████████████████████████████████████████████████████████| 30/30 [00:11<00:00,  2.62it/s]\n"
     ]
    },
    {
     "name": "stdout",
     "output_type": "stream",
     "text": [
      "\n",
      "Validation Epoch #22\t\t\tLoss: 1.6289 Acc@1: 35.92%\n",
      "Training\n"
     ]
    },
    {
     "name": "stderr",
     "output_type": "stream",
     "text": [
      "100%|████████████████████████████████████████████████████████████████████████████████| 299/299 [05:33<00:00,  1.11s/it]\n"
     ]
    },
    {
     "name": "stdout",
     "output_type": "stream",
     "text": [
      "Epoch: [23]  loss: [1.55] Accuracy [35.24] \n",
      "validation\n"
     ]
    },
    {
     "name": "stderr",
     "output_type": "stream",
     "text": [
      "100%|██████████████████████████████████████████████████████████████████████████████████| 30/30 [00:11<00:00,  2.70it/s]\n"
     ]
    },
    {
     "name": "stdout",
     "output_type": "stream",
     "text": [
      "\n",
      "Validation Epoch #23\t\t\tLoss: 1.5456 Acc@1: 37.38%\n",
      "not multiple GPU\n",
      "Training\n"
     ]
    },
    {
     "name": "stderr",
     "output_type": "stream",
     "text": [
      "100%|████████████████████████████████████████████████████████████████████████████████| 299/299 [05:33<00:00,  1.11s/it]\n"
     ]
    },
    {
     "name": "stdout",
     "output_type": "stream",
     "text": [
      "Epoch: [24]  loss: [1.53] Accuracy [35.25] \n",
      "validation\n"
     ]
    },
    {
     "name": "stderr",
     "output_type": "stream",
     "text": [
      "100%|██████████████████████████████████████████████████████████████████████████████████| 30/30 [00:11<00:00,  2.58it/s]\n"
     ]
    },
    {
     "name": "stdout",
     "output_type": "stream",
     "text": [
      "\n",
      "Validation Epoch #24\t\t\tLoss: 1.5858 Acc@1: 36.75%\n",
      "Training\n"
     ]
    },
    {
     "name": "stderr",
     "output_type": "stream",
     "text": [
      "100%|████████████████████████████████████████████████████████████████████████████████| 299/299 [05:33<00:00,  1.12s/it]\n"
     ]
    },
    {
     "name": "stdout",
     "output_type": "stream",
     "text": [
      "Epoch: [25]  loss: [1.52] Accuracy [36.41] \n",
      "validation\n"
     ]
    },
    {
     "name": "stderr",
     "output_type": "stream",
     "text": [
      "100%|██████████████████████████████████████████████████████████████████████████████████| 30/30 [00:11<00:00,  2.57it/s]\n"
     ]
    },
    {
     "name": "stdout",
     "output_type": "stream",
     "text": [
      "\n",
      "Validation Epoch #25\t\t\tLoss: 1.4822 Acc@1: 38.32%\n",
      "not multiple GPU\n",
      "Training\n"
     ]
    },
    {
     "name": "stderr",
     "output_type": "stream",
     "text": [
      "100%|████████████████████████████████████████████████████████████████████████████████| 299/299 [05:32<00:00,  1.11s/it]\n"
     ]
    },
    {
     "name": "stdout",
     "output_type": "stream",
     "text": [
      "Epoch: [26]  loss: [1.51] Accuracy [36.82] \n",
      "validation\n"
     ]
    },
    {
     "name": "stderr",
     "output_type": "stream",
     "text": [
      "100%|██████████████████████████████████████████████████████████████████████████████████| 30/30 [00:11<00:00,  2.67it/s]\n"
     ]
    },
    {
     "name": "stdout",
     "output_type": "stream",
     "text": [
      "\n",
      "Validation Epoch #26\t\t\tLoss: 1.4889 Acc@1: 38.12%\n",
      "Training\n"
     ]
    },
    {
     "name": "stderr",
     "output_type": "stream",
     "text": [
      "100%|████████████████████████████████████████████████████████████████████████████████| 299/299 [05:32<00:00,  1.11s/it]\n"
     ]
    },
    {
     "name": "stdout",
     "output_type": "stream",
     "text": [
      "Epoch: [27]  loss: [1.50] Accuracy [37.75] \n",
      "validation\n"
     ]
    },
    {
     "name": "stderr",
     "output_type": "stream",
     "text": [
      "100%|██████████████████████████████████████████████████████████████████████████████████| 30/30 [00:11<00:00,  2.69it/s]\n"
     ]
    },
    {
     "name": "stdout",
     "output_type": "stream",
     "text": [
      "\n",
      "Validation Epoch #27\t\t\tLoss: 1.4771 Acc@1: 37.59%\n",
      "Training\n"
     ]
    },
    {
     "name": "stderr",
     "output_type": "stream",
     "text": [
      "100%|████████████████████████████████████████████████████████████████████████████████| 299/299 [05:31<00:00,  1.11s/it]\n"
     ]
    },
    {
     "name": "stdout",
     "output_type": "stream",
     "text": [
      "Epoch: [28]  loss: [1.49] Accuracy [37.48] \n",
      "validation\n"
     ]
    },
    {
     "name": "stderr",
     "output_type": "stream",
     "text": [
      "100%|██████████████████████████████████████████████████████████████████████████████████| 30/30 [00:11<00:00,  2.70it/s]\n"
     ]
    },
    {
     "name": "stdout",
     "output_type": "stream",
     "text": [
      "\n",
      "Validation Epoch #28\t\t\tLoss: 1.4687 Acc@1: 43.04%\n",
      "not multiple GPU\n",
      "Training\n"
     ]
    },
    {
     "name": "stderr",
     "output_type": "stream",
     "text": [
      "100%|████████████████████████████████████████████████████████████████████████████████| 299/299 [05:31<00:00,  1.11s/it]\n"
     ]
    },
    {
     "name": "stdout",
     "output_type": "stream",
     "text": [
      "Epoch: [29]  loss: [1.47] Accuracy [38.80] \n",
      "validation\n"
     ]
    },
    {
     "name": "stderr",
     "output_type": "stream",
     "text": [
      "100%|██████████████████████████████████████████████████████████████████████████████████| 30/30 [00:11<00:00,  2.64it/s]\n"
     ]
    },
    {
     "name": "stdout",
     "output_type": "stream",
     "text": [
      "\n",
      "Validation Epoch #29\t\t\tLoss: 1.4516 Acc@1: 42.20%\n",
      "Training\n"
     ]
    },
    {
     "name": "stderr",
     "output_type": "stream",
     "text": [
      "100%|████████████████████████████████████████████████████████████████████████████████| 299/299 [05:33<00:00,  1.11s/it]\n"
     ]
    },
    {
     "name": "stdout",
     "output_type": "stream",
     "text": [
      "Epoch: [30]  loss: [1.46] Accuracy [40.11] \n",
      "validation\n"
     ]
    },
    {
     "name": "stderr",
     "output_type": "stream",
     "text": [
      "100%|██████████████████████████████████████████████████████████████████████████████████| 30/30 [00:11<00:00,  2.69it/s]\n"
     ]
    },
    {
     "name": "stdout",
     "output_type": "stream",
     "text": [
      "\n",
      "Validation Epoch #30\t\t\tLoss: 1.4055 Acc@1: 42.20%\n",
      "Training\n"
     ]
    },
    {
     "name": "stderr",
     "output_type": "stream",
     "text": [
      "100%|████████████████████████████████████████████████████████████████████████████████| 299/299 [05:34<00:00,  1.12s/it]\n"
     ]
    },
    {
     "name": "stdout",
     "output_type": "stream",
     "text": [
      "Epoch: [31]  loss: [1.46] Accuracy [40.10] \n",
      "validation\n"
     ]
    },
    {
     "name": "stderr",
     "output_type": "stream",
     "text": [
      "100%|██████████████████████████████████████████████████████████████████████████████████| 30/30 [00:11<00:00,  2.60it/s]\n"
     ]
    },
    {
     "name": "stdout",
     "output_type": "stream",
     "text": [
      "\n",
      "Validation Epoch #31\t\t\tLoss: 1.3787 Acc@1: 40.42%\n",
      "Training\n"
     ]
    },
    {
     "name": "stderr",
     "output_type": "stream",
     "text": [
      "100%|████████████████████████████████████████████████████████████████████████████████| 299/299 [05:34<00:00,  1.12s/it]\n"
     ]
    },
    {
     "name": "stdout",
     "output_type": "stream",
     "text": [
      "Epoch: [32]  loss: [1.43] Accuracy [41.84] \n",
      "validation\n"
     ]
    },
    {
     "name": "stderr",
     "output_type": "stream",
     "text": [
      "100%|██████████████████████████████████████████████████████████████████████████████████| 30/30 [00:11<00:00,  2.59it/s]\n"
     ]
    },
    {
     "name": "stdout",
     "output_type": "stream",
     "text": [
      "\n",
      "Validation Epoch #32\t\t\tLoss: 1.3600 Acc@1: 45.76%\n",
      "not multiple GPU\n",
      "Training\n"
     ]
    },
    {
     "name": "stderr",
     "output_type": "stream",
     "text": [
      "100%|████████████████████████████████████████████████████████████████████████████████| 299/299 [05:34<00:00,  1.12s/it]\n"
     ]
    },
    {
     "name": "stdout",
     "output_type": "stream",
     "text": [
      "Epoch: [33]  loss: [1.41] Accuracy [42.35] \n",
      "validation\n"
     ]
    },
    {
     "name": "stderr",
     "output_type": "stream",
     "text": [
      "100%|██████████████████████████████████████████████████████████████████████████████████| 30/30 [00:11<00:00,  2.71it/s]\n"
     ]
    },
    {
     "name": "stdout",
     "output_type": "stream",
     "text": [
      "\n",
      "Validation Epoch #33\t\t\tLoss: 1.3507 Acc@1: 46.91%\n",
      "not multiple GPU\n",
      "Training\n"
     ]
    },
    {
     "name": "stderr",
     "output_type": "stream",
     "text": [
      "100%|████████████████████████████████████████████████████████████████████████████████| 299/299 [05:32<00:00,  1.11s/it]\n"
     ]
    },
    {
     "name": "stdout",
     "output_type": "stream",
     "text": [
      "Epoch: [34]  loss: [1.41] Accuracy [41.60] \n",
      "validation\n"
     ]
    },
    {
     "name": "stderr",
     "output_type": "stream",
     "text": [
      "100%|██████████████████████████████████████████████████████████████████████████████████| 30/30 [00:11<00:00,  2.67it/s]\n"
     ]
    },
    {
     "name": "stdout",
     "output_type": "stream",
     "text": [
      "\n",
      "Validation Epoch #34\t\t\tLoss: 1.3349 Acc@1: 44.40%\n",
      "Training\n"
     ]
    },
    {
     "name": "stderr",
     "output_type": "stream",
     "text": [
      "100%|████████████████████████████████████████████████████████████████████████████████| 299/299 [05:43<00:00,  1.15s/it]\n"
     ]
    },
    {
     "name": "stdout",
     "output_type": "stream",
     "text": [
      "Epoch: [35]  loss: [1.37] Accuracy [42.87] \n",
      "validation\n"
     ]
    },
    {
     "name": "stderr",
     "output_type": "stream",
     "text": [
      "100%|██████████████████████████████████████████████████████████████████████████████████| 30/30 [00:11<00:00,  2.50it/s]\n"
     ]
    },
    {
     "name": "stdout",
     "output_type": "stream",
     "text": [
      "\n",
      "Validation Epoch #35\t\t\tLoss: 1.3626 Acc@1: 45.45%\n",
      "Training\n"
     ]
    },
    {
     "name": "stderr",
     "output_type": "stream",
     "text": [
      "100%|████████████████████████████████████████████████████████████████████████████████| 299/299 [05:46<00:00,  1.16s/it]\n"
     ]
    },
    {
     "name": "stdout",
     "output_type": "stream",
     "text": [
      "Epoch: [36]  loss: [1.35] Accuracy [43.29] \n",
      "validation\n"
     ]
    },
    {
     "name": "stderr",
     "output_type": "stream",
     "text": [
      "100%|██████████████████████████████████████████████████████████████████████████████████| 30/30 [00:11<00:00,  2.63it/s]\n"
     ]
    },
    {
     "name": "stdout",
     "output_type": "stream",
     "text": [
      "\n",
      "Validation Epoch #36\t\t\tLoss: 1.2302 Acc@1: 50.05%\n",
      "not multiple GPU\n",
      "Training\n"
     ]
    },
    {
     "name": "stderr",
     "output_type": "stream",
     "text": [
      "100%|████████████████████████████████████████████████████████████████████████████████| 299/299 [05:33<00:00,  1.11s/it]\n"
     ]
    },
    {
     "name": "stdout",
     "output_type": "stream",
     "text": [
      "Epoch: [37]  loss: [1.33] Accuracy [44.95] \n",
      "validation\n"
     ]
    },
    {
     "name": "stderr",
     "output_type": "stream",
     "text": [
      "100%|██████████████████████████████████████████████████████████████████████████████████| 30/30 [00:10<00:00,  2.77it/s]\n"
     ]
    },
    {
     "name": "stdout",
     "output_type": "stream",
     "text": [
      "\n",
      "Validation Epoch #37\t\t\tLoss: 1.2470 Acc@1: 50.05%\n",
      "Training\n"
     ]
    },
    {
     "name": "stderr",
     "output_type": "stream",
     "text": [
      "100%|████████████████████████████████████████████████████████████████████████████████| 299/299 [05:33<00:00,  1.12s/it]\n"
     ]
    },
    {
     "name": "stdout",
     "output_type": "stream",
     "text": [
      "Epoch: [38]  loss: [1.31] Accuracy [46.20] \n",
      "validation\n"
     ]
    },
    {
     "name": "stderr",
     "output_type": "stream",
     "text": [
      "100%|██████████████████████████████████████████████████████████████████████████████████| 30/30 [00:11<00:00,  2.72it/s]\n"
     ]
    },
    {
     "name": "stdout",
     "output_type": "stream",
     "text": [
      "\n",
      "Validation Epoch #38\t\t\tLoss: 1.2445 Acc@1: 47.96%\n",
      "Training\n"
     ]
    },
    {
     "name": "stderr",
     "output_type": "stream",
     "text": [
      "100%|████████████████████████████████████████████████████████████████████████████████| 299/299 [05:39<00:00,  1.13s/it]\n"
     ]
    },
    {
     "name": "stdout",
     "output_type": "stream",
     "text": [
      "Epoch: [39]  loss: [1.29] Accuracy [47.22] \n",
      "validation\n"
     ]
    },
    {
     "name": "stderr",
     "output_type": "stream",
     "text": [
      "100%|██████████████████████████████████████████████████████████████████████████████████| 30/30 [00:11<00:00,  2.71it/s]\n"
     ]
    },
    {
     "name": "stdout",
     "output_type": "stream",
     "text": [
      "\n",
      "Validation Epoch #39\t\t\tLoss: 1.2335 Acc@1: 50.16%\n",
      "not multiple GPU\n",
      "Training\n"
     ]
    },
    {
     "name": "stderr",
     "output_type": "stream",
     "text": [
      "100%|████████████████████████████████████████████████████████████████████████████████| 299/299 [05:32<00:00,  1.11s/it]\n"
     ]
    },
    {
     "name": "stdout",
     "output_type": "stream",
     "text": [
      "Epoch: [40]  loss: [1.28] Accuracy [47.90] \n",
      "validation\n"
     ]
    },
    {
     "name": "stderr",
     "output_type": "stream",
     "text": [
      "100%|██████████████████████████████████████████████████████████████████████████████████| 30/30 [00:11<00:00,  2.71it/s]\n"
     ]
    },
    {
     "name": "stdout",
     "output_type": "stream",
     "text": [
      "\n",
      "Validation Epoch #40\t\t\tLoss: 1.1912 Acc@1: 54.03%\n",
      "not multiple GPU\n",
      "Training\n"
     ]
    },
    {
     "name": "stderr",
     "output_type": "stream",
     "text": [
      "100%|████████████████████████████████████████████████████████████████████████████████| 299/299 [05:31<00:00,  1.11s/it]\n"
     ]
    },
    {
     "name": "stdout",
     "output_type": "stream",
     "text": [
      "Epoch: [41]  loss: [1.24] Accuracy [48.94] \n",
      "validation\n"
     ]
    },
    {
     "name": "stderr",
     "output_type": "stream",
     "text": [
      "100%|██████████████████████████████████████████████████████████████████████████████████| 30/30 [00:11<00:00,  2.58it/s]\n"
     ]
    },
    {
     "name": "stdout",
     "output_type": "stream",
     "text": [
      "\n",
      "Validation Epoch #41\t\t\tLoss: 1.2215 Acc@1: 54.55%\n",
      "not multiple GPU\n",
      "Training\n"
     ]
    },
    {
     "name": "stderr",
     "output_type": "stream",
     "text": [
      "100%|████████████████████████████████████████████████████████████████████████████████| 299/299 [05:32<00:00,  1.11s/it]\n"
     ]
    },
    {
     "name": "stdout",
     "output_type": "stream",
     "text": [
      "Epoch: [42]  loss: [1.22] Accuracy [49.09] \n",
      "validation\n"
     ]
    },
    {
     "name": "stderr",
     "output_type": "stream",
     "text": [
      "100%|██████████████████████████████████████████████████████████████████████████████████| 30/30 [00:10<00:00,  2.73it/s]\n"
     ]
    },
    {
     "name": "stdout",
     "output_type": "stream",
     "text": [
      "\n",
      "Validation Epoch #42\t\t\tLoss: 1.1094 Acc@1: 56.54%\n",
      "not multiple GPU\n",
      "Training\n"
     ]
    },
    {
     "name": "stderr",
     "output_type": "stream",
     "text": [
      "100%|████████████████████████████████████████████████████████████████████████████████| 299/299 [05:34<00:00,  1.12s/it]\n"
     ]
    },
    {
     "name": "stdout",
     "output_type": "stream",
     "text": [
      "Epoch: [43]  loss: [1.20] Accuracy [50.77] \n",
      "validation\n"
     ]
    },
    {
     "name": "stderr",
     "output_type": "stream",
     "text": [
      "100%|██████████████████████████████████████████████████████████████████████████████████| 30/30 [00:11<00:00,  2.65it/s]\n"
     ]
    },
    {
     "name": "stdout",
     "output_type": "stream",
     "text": [
      "\n",
      "Validation Epoch #43\t\t\tLoss: 1.0865 Acc@1: 57.17%\n",
      "not multiple GPU\n",
      "Training\n"
     ]
    },
    {
     "name": "stderr",
     "output_type": "stream",
     "text": [
      "100%|████████████████████████████████████████████████████████████████████████████████| 299/299 [05:30<00:00,  1.11s/it]\n"
     ]
    },
    {
     "name": "stdout",
     "output_type": "stream",
     "text": [
      "Epoch: [44]  loss: [1.16] Accuracy [51.67] \n",
      "validation\n"
     ]
    },
    {
     "name": "stderr",
     "output_type": "stream",
     "text": [
      "100%|██████████████████████████████████████████████████████████████████████████████████| 30/30 [00:11<00:00,  2.68it/s]\n"
     ]
    },
    {
     "name": "stdout",
     "output_type": "stream",
     "text": [
      "\n",
      "Validation Epoch #44\t\t\tLoss: 1.0557 Acc@1: 60.21%\n",
      "not multiple GPU\n",
      "Training\n"
     ]
    },
    {
     "name": "stderr",
     "output_type": "stream",
     "text": [
      "100%|████████████████████████████████████████████████████████████████████████████████| 299/299 [05:48<00:00,  1.16s/it]\n"
     ]
    },
    {
     "name": "stdout",
     "output_type": "stream",
     "text": [
      "Epoch: [45]  loss: [1.15] Accuracy [53.12] \n",
      "validation\n"
     ]
    },
    {
     "name": "stderr",
     "output_type": "stream",
     "text": [
      "100%|██████████████████████████████████████████████████████████████████████████████████| 30/30 [00:11<00:00,  2.68it/s]\n"
     ]
    },
    {
     "name": "stdout",
     "output_type": "stream",
     "text": [
      "\n",
      "Validation Epoch #45\t\t\tLoss: 1.0576 Acc@1: 59.27%\n",
      "Training\n"
     ]
    },
    {
     "name": "stderr",
     "output_type": "stream",
     "text": [
      "100%|████████████████████████████████████████████████████████████████████████████████| 299/299 [05:30<00:00,  1.10s/it]\n"
     ]
    },
    {
     "name": "stdout",
     "output_type": "stream",
     "text": [
      "Epoch: [46]  loss: [1.13] Accuracy [53.29] \n",
      "validation\n"
     ]
    },
    {
     "name": "stderr",
     "output_type": "stream",
     "text": [
      "100%|██████████████████████████████████████████████████████████████████████████████████| 30/30 [00:11<00:00,  2.62it/s]\n"
     ]
    },
    {
     "name": "stdout",
     "output_type": "stream",
     "text": [
      "\n",
      "Validation Epoch #46\t\t\tLoss: 1.0113 Acc@1: 61.99%\n",
      "not multiple GPU\n",
      "Training\n"
     ]
    },
    {
     "name": "stderr",
     "output_type": "stream",
     "text": [
      "100%|████████████████████████████████████████████████████████████████████████████████| 299/299 [05:33<00:00,  1.12s/it]\n"
     ]
    },
    {
     "name": "stdout",
     "output_type": "stream",
     "text": [
      "Epoch: [47]  loss: [1.10] Accuracy [54.65] \n",
      "validation\n"
     ]
    },
    {
     "name": "stderr",
     "output_type": "stream",
     "text": [
      "100%|██████████████████████████████████████████████████████████████████████████████████| 30/30 [00:11<00:00,  2.71it/s]\n"
     ]
    },
    {
     "name": "stdout",
     "output_type": "stream",
     "text": [
      "\n",
      "Validation Epoch #47\t\t\tLoss: 0.9975 Acc@1: 63.56%\n",
      "not multiple GPU\n",
      "Training\n"
     ]
    },
    {
     "name": "stderr",
     "output_type": "stream",
     "text": [
      "100%|████████████████████████████████████████████████████████████████████████████████| 299/299 [05:30<00:00,  1.11s/it]\n"
     ]
    },
    {
     "name": "stdout",
     "output_type": "stream",
     "text": [
      "Epoch: [48]  loss: [1.07] Accuracy [56.31] \n",
      "validation\n"
     ]
    },
    {
     "name": "stderr",
     "output_type": "stream",
     "text": [
      "100%|██████████████████████████████████████████████████████████████████████████████████| 30/30 [00:11<00:00,  2.61it/s]\n"
     ]
    },
    {
     "name": "stdout",
     "output_type": "stream",
     "text": [
      "\n",
      "Validation Epoch #48\t\t\tLoss: 0.9664 Acc@1: 64.71%\n",
      "not multiple GPU\n",
      "Training\n"
     ]
    },
    {
     "name": "stderr",
     "output_type": "stream",
     "text": [
      "100%|████████████████████████████████████████████████████████████████████████████████| 299/299 [05:28<00:00,  1.10s/it]\n"
     ]
    },
    {
     "name": "stdout",
     "output_type": "stream",
     "text": [
      "Epoch: [49]  loss: [1.06] Accuracy [56.85] \n",
      "validation\n"
     ]
    },
    {
     "name": "stderr",
     "output_type": "stream",
     "text": [
      "100%|██████████████████████████████████████████████████████████████████████████████████| 30/30 [00:11<00:00,  2.59it/s]\n"
     ]
    },
    {
     "name": "stdout",
     "output_type": "stream",
     "text": [
      "\n",
      "Validation Epoch #49\t\t\tLoss: 1.1517 Acc@1: 56.96%\n",
      "Training\n"
     ]
    },
    {
     "name": "stderr",
     "output_type": "stream",
     "text": [
      "100%|████████████████████████████████████████████████████████████████████████████████| 299/299 [05:38<00:00,  1.13s/it]\n"
     ]
    },
    {
     "name": "stdout",
     "output_type": "stream",
     "text": [
      "Epoch: [50]  loss: [1.04] Accuracy [57.88] \n",
      "validation\n"
     ]
    },
    {
     "name": "stderr",
     "output_type": "stream",
     "text": [
      "100%|██████████████████████████████████████████████████████████████████████████████████| 30/30 [00:11<00:00,  2.54it/s]\n"
     ]
    },
    {
     "name": "stdout",
     "output_type": "stream",
     "text": [
      "\n",
      "Validation Epoch #50\t\t\tLoss: 0.8920 Acc@1: 68.69%\n",
      "not multiple GPU\n",
      "Training\n"
     ]
    },
    {
     "name": "stderr",
     "output_type": "stream",
     "text": [
      "100%|████████████████████████████████████████████████████████████████████████████████| 299/299 [05:30<00:00,  1.11s/it]\n"
     ]
    },
    {
     "name": "stdout",
     "output_type": "stream",
     "text": [
      "Epoch: [51]  loss: [1.02] Accuracy [58.61] \n",
      "validation\n"
     ]
    },
    {
     "name": "stderr",
     "output_type": "stream",
     "text": [
      "100%|██████████████████████████████████████████████████████████████████████████████████| 30/30 [00:11<00:00,  2.71it/s]\n"
     ]
    },
    {
     "name": "stdout",
     "output_type": "stream",
     "text": [
      "\n",
      "Validation Epoch #51\t\t\tLoss: 0.8964 Acc@1: 66.28%\n",
      "Training\n"
     ]
    },
    {
     "name": "stderr",
     "output_type": "stream",
     "text": [
      "100%|████████████████████████████████████████████████████████████████████████████████| 299/299 [05:28<00:00,  1.10s/it]\n"
     ]
    },
    {
     "name": "stdout",
     "output_type": "stream",
     "text": [
      "Epoch: [52]  loss: [1.00] Accuracy [59.93] \n",
      "validation\n"
     ]
    },
    {
     "name": "stderr",
     "output_type": "stream",
     "text": [
      "100%|██████████████████████████████████████████████████████████████████████████████████| 30/30 [00:11<00:00,  2.62it/s]\n"
     ]
    },
    {
     "name": "stdout",
     "output_type": "stream",
     "text": [
      "\n",
      "Validation Epoch #52\t\t\tLoss: 0.8739 Acc@1: 69.63%\n",
      "not multiple GPU\n",
      "Training\n"
     ]
    },
    {
     "name": "stderr",
     "output_type": "stream",
     "text": [
      "100%|████████████████████████████████████████████████████████████████████████████████| 299/299 [05:26<00:00,  1.09s/it]\n"
     ]
    },
    {
     "name": "stdout",
     "output_type": "stream",
     "text": [
      "Epoch: [53]  loss: [0.99] Accuracy [60.66] \n",
      "validation\n"
     ]
    },
    {
     "name": "stderr",
     "output_type": "stream",
     "text": [
      "100%|██████████████████████████████████████████████████████████████████████████████████| 30/30 [00:11<00:00,  2.65it/s]\n"
     ]
    },
    {
     "name": "stdout",
     "output_type": "stream",
     "text": [
      "\n",
      "Validation Epoch #53\t\t\tLoss: 0.8509 Acc@1: 69.95%\n",
      "not multiple GPU\n",
      "Training\n"
     ]
    },
    {
     "name": "stderr",
     "output_type": "stream",
     "text": [
      "100%|████████████████████████████████████████████████████████████████████████████████| 299/299 [05:25<00:00,  1.09s/it]\n"
     ]
    },
    {
     "name": "stdout",
     "output_type": "stream",
     "text": [
      "Epoch: [54]  loss: [0.96] Accuracy [61.98] \n",
      "validation\n"
     ]
    },
    {
     "name": "stderr",
     "output_type": "stream",
     "text": [
      "100%|██████████████████████████████████████████████████████████████████████████████████| 30/30 [00:11<00:00,  2.67it/s]\n"
     ]
    },
    {
     "name": "stdout",
     "output_type": "stream",
     "text": [
      "\n",
      "Validation Epoch #54\t\t\tLoss: 0.7737 Acc@1: 73.19%\n",
      "not multiple GPU\n",
      "Training\n"
     ]
    },
    {
     "name": "stderr",
     "output_type": "stream",
     "text": [
      "100%|████████████████████████████████████████████████████████████████████████████████| 299/299 [05:34<00:00,  1.12s/it]\n"
     ]
    },
    {
     "name": "stdout",
     "output_type": "stream",
     "text": [
      "Epoch: [55]  loss: [0.90] Accuracy [63.84] \n",
      "validation\n"
     ]
    },
    {
     "name": "stderr",
     "output_type": "stream",
     "text": [
      "100%|██████████████████████████████████████████████████████████████████████████████████| 30/30 [00:11<00:00,  2.65it/s]\n"
     ]
    },
    {
     "name": "stdout",
     "output_type": "stream",
     "text": [
      "\n",
      "Validation Epoch #55\t\t\tLoss: 0.7897 Acc@1: 73.72%\n",
      "not multiple GPU\n",
      "Training\n"
     ]
    },
    {
     "name": "stderr",
     "output_type": "stream",
     "text": [
      "100%|████████████████████████████████████████████████████████████████████████████████| 299/299 [05:25<00:00,  1.09s/it]\n"
     ]
    },
    {
     "name": "stdout",
     "output_type": "stream",
     "text": [
      "Epoch: [56]  loss: [0.89] Accuracy [64.47] \n",
      "validation\n"
     ]
    },
    {
     "name": "stderr",
     "output_type": "stream",
     "text": [
      "100%|██████████████████████████████████████████████████████████████████████████████████| 30/30 [00:11<00:00,  2.64it/s]\n"
     ]
    },
    {
     "name": "stdout",
     "output_type": "stream",
     "text": [
      "\n",
      "Validation Epoch #56\t\t\tLoss: 0.7234 Acc@1: 75.39%\n",
      "not multiple GPU\n",
      "Training\n"
     ]
    },
    {
     "name": "stderr",
     "output_type": "stream",
     "text": [
      "100%|████████████████████████████████████████████████████████████████████████████████| 299/299 [05:24<00:00,  1.09s/it]\n"
     ]
    },
    {
     "name": "stdout",
     "output_type": "stream",
     "text": [
      "Epoch: [57]  loss: [0.89] Accuracy [64.68] \n",
      "validation\n"
     ]
    },
    {
     "name": "stderr",
     "output_type": "stream",
     "text": [
      "100%|██████████████████████████████████████████████████████████████████████████████████| 30/30 [00:11<00:00,  2.66it/s]\n"
     ]
    },
    {
     "name": "stdout",
     "output_type": "stream",
     "text": [
      "\n",
      "Validation Epoch #57\t\t\tLoss: 0.6854 Acc@1: 79.27%\n",
      "not multiple GPU\n",
      "Training\n"
     ]
    },
    {
     "name": "stderr",
     "output_type": "stream",
     "text": [
      "100%|████████████████████████████████████████████████████████████████████████████████| 299/299 [05:21<00:00,  1.08s/it]\n"
     ]
    },
    {
     "name": "stdout",
     "output_type": "stream",
     "text": [
      "Epoch: [58]  loss: [0.87] Accuracy [66.15] \n",
      "validation\n"
     ]
    },
    {
     "name": "stderr",
     "output_type": "stream",
     "text": [
      "100%|██████████████████████████████████████████████████████████████████████████████████| 30/30 [00:11<00:00,  2.69it/s]\n"
     ]
    },
    {
     "name": "stdout",
     "output_type": "stream",
     "text": [
      "\n",
      "Validation Epoch #58\t\t\tLoss: 0.7432 Acc@1: 75.81%\n",
      "Training\n"
     ]
    },
    {
     "name": "stderr",
     "output_type": "stream",
     "text": [
      "100%|████████████████████████████████████████████████████████████████████████████████| 299/299 [05:21<00:00,  1.08s/it]\n"
     ]
    },
    {
     "name": "stdout",
     "output_type": "stream",
     "text": [
      "Epoch: [59]  loss: [0.85] Accuracy [66.21] \n",
      "validation\n"
     ]
    },
    {
     "name": "stderr",
     "output_type": "stream",
     "text": [
      "100%|██████████████████████████████████████████████████████████████████████████████████| 30/30 [00:11<00:00,  2.66it/s]\n"
     ]
    },
    {
     "name": "stdout",
     "output_type": "stream",
     "text": [
      "\n",
      "Validation Epoch #59\t\t\tLoss: 0.6556 Acc@1: 79.48%\n",
      "not multiple GPU\n",
      "Training\n"
     ]
    },
    {
     "name": "stderr",
     "output_type": "stream",
     "text": [
      "100%|████████████████████████████████████████████████████████████████████████████████| 299/299 [05:20<00:00,  1.07s/it]\n"
     ]
    },
    {
     "name": "stdout",
     "output_type": "stream",
     "text": [
      "Epoch: [60]  loss: [0.81] Accuracy [68.17] \n",
      "validation\n"
     ]
    },
    {
     "name": "stderr",
     "output_type": "stream",
     "text": [
      "100%|██████████████████████████████████████████████████████████████████████████████████| 30/30 [00:11<00:00,  2.66it/s]\n"
     ]
    },
    {
     "name": "stdout",
     "output_type": "stream",
     "text": [
      "\n",
      "Validation Epoch #60\t\t\tLoss: 0.6962 Acc@1: 79.16%\n",
      "Training\n"
     ]
    },
    {
     "name": "stderr",
     "output_type": "stream",
     "text": [
      "100%|████████████████████████████████████████████████████████████████████████████████| 299/299 [05:19<00:00,  1.07s/it]\n"
     ]
    },
    {
     "name": "stdout",
     "output_type": "stream",
     "text": [
      "Epoch: [61]  loss: [0.80] Accuracy [68.39] \n",
      "validation\n"
     ]
    },
    {
     "name": "stderr",
     "output_type": "stream",
     "text": [
      "100%|██████████████████████████████████████████████████████████████████████████████████| 30/30 [00:11<00:00,  2.70it/s]\n"
     ]
    },
    {
     "name": "stdout",
     "output_type": "stream",
     "text": [
      "\n",
      "Validation Epoch #61\t\t\tLoss: 0.6012 Acc@1: 81.36%\n",
      "not multiple GPU\n",
      "Training\n"
     ]
    },
    {
     "name": "stderr",
     "output_type": "stream",
     "text": [
      "100%|████████████████████████████████████████████████████████████████████████████████| 299/299 [05:17<00:00,  1.06s/it]\n"
     ]
    },
    {
     "name": "stdout",
     "output_type": "stream",
     "text": [
      "Epoch: [62]  loss: [0.79] Accuracy [69.64] \n",
      "validation\n"
     ]
    },
    {
     "name": "stderr",
     "output_type": "stream",
     "text": [
      "100%|██████████████████████████████████████████████████████████████████████████████████| 30/30 [00:11<00:00,  2.64it/s]\n"
     ]
    },
    {
     "name": "stdout",
     "output_type": "stream",
     "text": [
      "\n",
      "Validation Epoch #62\t\t\tLoss: 0.6488 Acc@1: 79.37%\n",
      "Training\n"
     ]
    },
    {
     "name": "stderr",
     "output_type": "stream",
     "text": [
      "100%|████████████████████████████████████████████████████████████████████████████████| 299/299 [05:24<00:00,  1.08s/it]\n"
     ]
    },
    {
     "name": "stdout",
     "output_type": "stream",
     "text": [
      "Epoch: [63]  loss: [0.78] Accuracy [69.82] \n",
      "validation\n"
     ]
    },
    {
     "name": "stderr",
     "output_type": "stream",
     "text": [
      "100%|██████████████████████████████████████████████████████████████████████████████████| 30/30 [00:11<00:00,  2.65it/s]\n"
     ]
    },
    {
     "name": "stdout",
     "output_type": "stream",
     "text": [
      "\n",
      "Validation Epoch #63\t\t\tLoss: 0.6128 Acc@1: 81.26%\n",
      "Training\n"
     ]
    },
    {
     "name": "stderr",
     "output_type": "stream",
     "text": [
      "100%|████████████████████████████████████████████████████████████████████████████████| 299/299 [05:25<00:00,  1.09s/it]\n"
     ]
    },
    {
     "name": "stdout",
     "output_type": "stream",
     "text": [
      "Epoch: [64]  loss: [0.73] Accuracy [71.28] \n",
      "validation\n"
     ]
    },
    {
     "name": "stderr",
     "output_type": "stream",
     "text": [
      "100%|██████████████████████████████████████████████████████████████████████████████████| 30/30 [00:11<00:00,  2.65it/s]\n"
     ]
    },
    {
     "name": "stdout",
     "output_type": "stream",
     "text": [
      "\n",
      "Validation Epoch #64\t\t\tLoss: 0.4937 Acc@1: 85.55%\n",
      "not multiple GPU\n",
      "Training\n"
     ]
    },
    {
     "name": "stderr",
     "output_type": "stream",
     "text": [
      "100%|████████████████████████████████████████████████████████████████████████████████| 299/299 [05:23<00:00,  1.08s/it]\n"
     ]
    },
    {
     "name": "stdout",
     "output_type": "stream",
     "text": [
      "Epoch: [65]  loss: [0.73] Accuracy [71.62] \n",
      "validation\n"
     ]
    },
    {
     "name": "stderr",
     "output_type": "stream",
     "text": [
      "100%|██████████████████████████████████████████████████████████████████████████████████| 30/30 [00:11<00:00,  2.61it/s]\n"
     ]
    },
    {
     "name": "stdout",
     "output_type": "stream",
     "text": [
      "\n",
      "Validation Epoch #65\t\t\tLoss: 0.5273 Acc@1: 85.24%\n",
      "Training\n"
     ]
    },
    {
     "name": "stderr",
     "output_type": "stream",
     "text": [
      "100%|████████████████████████████████████████████████████████████████████████████████| 299/299 [05:20<00:00,  1.07s/it]\n"
     ]
    },
    {
     "name": "stdout",
     "output_type": "stream",
     "text": [
      "Epoch: [66]  loss: [0.70] Accuracy [73.24] \n",
      "validation\n"
     ]
    },
    {
     "name": "stderr",
     "output_type": "stream",
     "text": [
      "100%|██████████████████████████████████████████████████████████████████████████████████| 30/30 [00:11<00:00,  2.66it/s]\n"
     ]
    },
    {
     "name": "stdout",
     "output_type": "stream",
     "text": [
      "\n",
      "Validation Epoch #66\t\t\tLoss: 0.4896 Acc@1: 86.07%\n",
      "not multiple GPU\n",
      "Training\n"
     ]
    },
    {
     "name": "stderr",
     "output_type": "stream",
     "text": [
      "100%|████████████████████████████████████████████████████████████████████████████████| 299/299 [05:26<00:00,  1.09s/it]\n"
     ]
    },
    {
     "name": "stdout",
     "output_type": "stream",
     "text": [
      "Epoch: [67]  loss: [0.69] Accuracy [73.12] \n",
      "validation\n"
     ]
    },
    {
     "name": "stderr",
     "output_type": "stream",
     "text": [
      "100%|██████████████████████████████████████████████████████████████████████████████████| 30/30 [00:11<00:00,  2.54it/s]\n"
     ]
    },
    {
     "name": "stdout",
     "output_type": "stream",
     "text": [
      "\n",
      "Validation Epoch #67\t\t\tLoss: 0.5002 Acc@1: 87.23%\n",
      "not multiple GPU\n",
      "Training\n"
     ]
    },
    {
     "name": "stderr",
     "output_type": "stream",
     "text": [
      "100%|████████████████████████████████████████████████████████████████████████████████| 299/299 [05:22<00:00,  1.08s/it]\n"
     ]
    },
    {
     "name": "stdout",
     "output_type": "stream",
     "text": [
      "Epoch: [68]  loss: [0.66] Accuracy [74.62] \n",
      "validation\n"
     ]
    },
    {
     "name": "stderr",
     "output_type": "stream",
     "text": [
      "100%|██████████████████████████████████████████████████████████████████████████████████| 30/30 [00:11<00:00,  2.66it/s]\n"
     ]
    },
    {
     "name": "stdout",
     "output_type": "stream",
     "text": [
      "\n",
      "Validation Epoch #68\t\t\tLoss: 0.4410 Acc@1: 89.32%\n",
      "not multiple GPU\n",
      "Training\n"
     ]
    },
    {
     "name": "stderr",
     "output_type": "stream",
     "text": [
      "100%|████████████████████████████████████████████████████████████████████████████████| 299/299 [05:20<00:00,  1.07s/it]\n"
     ]
    },
    {
     "name": "stdout",
     "output_type": "stream",
     "text": [
      "Epoch: [69]  loss: [0.65] Accuracy [75.53] \n",
      "validation\n"
     ]
    },
    {
     "name": "stderr",
     "output_type": "stream",
     "text": [
      "100%|██████████████████████████████████████████████████████████████████████████████████| 30/30 [00:11<00:00,  2.63it/s]\n"
     ]
    },
    {
     "name": "stdout",
     "output_type": "stream",
     "text": [
      "\n",
      "Validation Epoch #69\t\t\tLoss: 0.4851 Acc@1: 85.97%\n",
      "Training\n"
     ]
    },
    {
     "name": "stderr",
     "output_type": "stream",
     "text": [
      "100%|████████████████████████████████████████████████████████████████████████████████| 299/299 [05:23<00:00,  1.08s/it]\n"
     ]
    },
    {
     "name": "stdout",
     "output_type": "stream",
     "text": [
      "Epoch: [70]  loss: [0.62] Accuracy [76.74] \n",
      "validation\n"
     ]
    },
    {
     "name": "stderr",
     "output_type": "stream",
     "text": [
      "100%|██████████████████████████████████████████████████████████████████████████████████| 30/30 [00:11<00:00,  2.57it/s]\n"
     ]
    },
    {
     "name": "stdout",
     "output_type": "stream",
     "text": [
      "\n",
      "Validation Epoch #70\t\t\tLoss: 0.4326 Acc@1: 89.21%\n",
      "Training\n"
     ]
    },
    {
     "name": "stderr",
     "output_type": "stream",
     "text": [
      "100%|████████████████████████████████████████████████████████████████████████████████| 299/299 [05:51<00:00,  1.18s/it]\n"
     ]
    },
    {
     "name": "stdout",
     "output_type": "stream",
     "text": [
      "Epoch: [71]  loss: [0.61] Accuracy [76.69] \n",
      "validation\n"
     ]
    },
    {
     "name": "stderr",
     "output_type": "stream",
     "text": [
      "100%|██████████████████████████████████████████████████████████████████████████████████| 30/30 [00:13<00:00,  2.18it/s]\n"
     ]
    },
    {
     "name": "stdout",
     "output_type": "stream",
     "text": [
      "\n",
      "Validation Epoch #71\t\t\tLoss: 0.4125 Acc@1: 90.26%\n",
      "not multiple GPU\n",
      "Training\n"
     ]
    },
    {
     "name": "stderr",
     "output_type": "stream",
     "text": [
      "100%|████████████████████████████████████████████████████████████████████████████████| 299/299 [05:22<00:00,  1.08s/it]\n"
     ]
    },
    {
     "name": "stdout",
     "output_type": "stream",
     "text": [
      "Epoch: [72]  loss: [0.60] Accuracy [77.28] \n",
      "validation\n"
     ]
    },
    {
     "name": "stderr",
     "output_type": "stream",
     "text": [
      "100%|██████████████████████████████████████████████████████████████████████████████████| 30/30 [00:10<00:00,  2.76it/s]\n"
     ]
    },
    {
     "name": "stdout",
     "output_type": "stream",
     "text": [
      "\n",
      "Validation Epoch #72\t\t\tLoss: 0.3877 Acc@1: 90.68%\n",
      "not multiple GPU\n",
      "Training\n"
     ]
    },
    {
     "name": "stderr",
     "output_type": "stream",
     "text": [
      "100%|████████████████████████████████████████████████████████████████████████████████| 299/299 [05:17<00:00,  1.06s/it]\n"
     ]
    },
    {
     "name": "stdout",
     "output_type": "stream",
     "text": [
      "Epoch: [73]  loss: [0.56] Accuracy [78.50] \n",
      "validation\n"
     ]
    },
    {
     "name": "stderr",
     "output_type": "stream",
     "text": [
      "100%|██████████████████████████████████████████████████████████████████████████████████| 30/30 [00:11<00:00,  2.64it/s]\n"
     ]
    },
    {
     "name": "stdout",
     "output_type": "stream",
     "text": [
      "\n",
      "Validation Epoch #73\t\t\tLoss: 0.3711 Acc@1: 92.46%\n",
      "not multiple GPU\n",
      "Training\n"
     ]
    },
    {
     "name": "stderr",
     "output_type": "stream",
     "text": [
      "100%|████████████████████████████████████████████████████████████████████████████████| 299/299 [05:19<00:00,  1.07s/it]\n"
     ]
    },
    {
     "name": "stdout",
     "output_type": "stream",
     "text": [
      "Epoch: [74]  loss: [0.56] Accuracy [79.07] \n",
      "validation\n"
     ]
    },
    {
     "name": "stderr",
     "output_type": "stream",
     "text": [
      "100%|██████████████████████████████████████████████████████████████████████████████████| 30/30 [00:11<00:00,  2.59it/s]\n"
     ]
    },
    {
     "name": "stdout",
     "output_type": "stream",
     "text": [
      "\n",
      "Validation Epoch #74\t\t\tLoss: 0.3768 Acc@1: 91.20%\n",
      "Training\n"
     ]
    },
    {
     "name": "stderr",
     "output_type": "stream",
     "text": [
      "100%|████████████████████████████████████████████████████████████████████████████████| 299/299 [05:19<00:00,  1.07s/it]\n"
     ]
    },
    {
     "name": "stdout",
     "output_type": "stream",
     "text": [
      "Epoch: [75]  loss: [0.53] Accuracy [79.45] \n",
      "validation\n"
     ]
    },
    {
     "name": "stderr",
     "output_type": "stream",
     "text": [
      "100%|██████████████████████████████████████████████████████████████████████████████████| 30/30 [00:11<00:00,  2.57it/s]\n"
     ]
    },
    {
     "name": "stdout",
     "output_type": "stream",
     "text": [
      "\n",
      "Validation Epoch #75\t\t\tLoss: 0.3437 Acc@1: 91.83%\n",
      "Training\n"
     ]
    },
    {
     "name": "stderr",
     "output_type": "stream",
     "text": [
      "100%|████████████████████████████████████████████████████████████████████████████████| 299/299 [05:17<00:00,  1.06s/it]\n"
     ]
    },
    {
     "name": "stdout",
     "output_type": "stream",
     "text": [
      "Epoch: [76]  loss: [0.51] Accuracy [80.33] \n",
      "validation\n"
     ]
    },
    {
     "name": "stderr",
     "output_type": "stream",
     "text": [
      "100%|██████████████████████████████████████████████████████████████████████████████████| 30/30 [00:11<00:00,  2.71it/s]\n"
     ]
    },
    {
     "name": "stdout",
     "output_type": "stream",
     "text": [
      "\n",
      "Validation Epoch #76\t\t\tLoss: 0.3362 Acc@1: 92.67%\n",
      "not multiple GPU\n",
      "Training\n"
     ]
    },
    {
     "name": "stderr",
     "output_type": "stream",
     "text": [
      "100%|████████████████████████████████████████████████████████████████████████████████| 299/299 [05:16<00:00,  1.06s/it]\n"
     ]
    },
    {
     "name": "stdout",
     "output_type": "stream",
     "text": [
      "Epoch: [77]  loss: [0.51] Accuracy [80.72] \n",
      "validation\n"
     ]
    },
    {
     "name": "stderr",
     "output_type": "stream",
     "text": [
      "100%|██████████████████████████████████████████████████████████████████████████████████| 30/30 [00:11<00:00,  2.61it/s]\n"
     ]
    },
    {
     "name": "stdout",
     "output_type": "stream",
     "text": [
      "\n",
      "Validation Epoch #77\t\t\tLoss: 0.3471 Acc@1: 91.41%\n",
      "Training\n"
     ]
    },
    {
     "name": "stderr",
     "output_type": "stream",
     "text": [
      "100%|████████████████████████████████████████████████████████████████████████████████| 299/299 [05:20<00:00,  1.07s/it]\n"
     ]
    },
    {
     "name": "stdout",
     "output_type": "stream",
     "text": [
      "Epoch: [78]  loss: [0.51] Accuracy [81.04] \n",
      "validation\n"
     ]
    },
    {
     "name": "stderr",
     "output_type": "stream",
     "text": [
      "100%|██████████████████████████████████████████████████████████████████████████████████| 30/30 [00:11<00:00,  2.62it/s]\n"
     ]
    },
    {
     "name": "stdout",
     "output_type": "stream",
     "text": [
      "\n",
      "Validation Epoch #78\t\t\tLoss: 0.3025 Acc@1: 92.46%\n",
      "Training\n"
     ]
    },
    {
     "name": "stderr",
     "output_type": "stream",
     "text": [
      "100%|████████████████████████████████████████████████████████████████████████████████| 299/299 [05:19<00:00,  1.07s/it]\n"
     ]
    },
    {
     "name": "stdout",
     "output_type": "stream",
     "text": [
      "Epoch: [79]  loss: [0.49] Accuracy [82.14] \n",
      "validation\n"
     ]
    },
    {
     "name": "stderr",
     "output_type": "stream",
     "text": [
      "100%|██████████████████████████████████████████████████████████████████████████████████| 30/30 [00:11<00:00,  2.58it/s]\n"
     ]
    },
    {
     "name": "stdout",
     "output_type": "stream",
     "text": [
      "\n",
      "Validation Epoch #79\t\t\tLoss: 0.3060 Acc@1: 94.35%\n",
      "not multiple GPU\n",
      "Training\n"
     ]
    },
    {
     "name": "stderr",
     "output_type": "stream",
     "text": [
      "100%|████████████████████████████████████████████████████████████████████████████████| 299/299 [05:43<00:00,  1.15s/it]\n"
     ]
    },
    {
     "name": "stdout",
     "output_type": "stream",
     "text": [
      "Epoch: [80]  loss: [0.47] Accuracy [82.75] \n",
      "validation\n"
     ]
    },
    {
     "name": "stderr",
     "output_type": "stream",
     "text": [
      "100%|██████████████████████████████████████████████████████████████████████████████████| 30/30 [00:14<00:00,  2.05it/s]\n"
     ]
    },
    {
     "name": "stdout",
     "output_type": "stream",
     "text": [
      "\n",
      "Validation Epoch #80\t\t\tLoss: 0.2757 Acc@1: 95.18%\n",
      "not multiple GPU\n",
      "Training\n"
     ]
    },
    {
     "name": "stderr",
     "output_type": "stream",
     "text": [
      "100%|████████████████████████████████████████████████████████████████████████████████| 299/299 [05:33<00:00,  1.12s/it]\n"
     ]
    },
    {
     "name": "stdout",
     "output_type": "stream",
     "text": [
      "Epoch: [81]  loss: [0.46] Accuracy [82.84] \n",
      "validation\n"
     ]
    },
    {
     "name": "stderr",
     "output_type": "stream",
     "text": [
      "100%|██████████████████████████████████████████████████████████████████████████████████| 30/30 [00:10<00:00,  2.76it/s]\n"
     ]
    },
    {
     "name": "stdout",
     "output_type": "stream",
     "text": [
      "\n",
      "Validation Epoch #81\t\t\tLoss: 0.2892 Acc@1: 94.35%\n",
      "Training\n"
     ]
    },
    {
     "name": "stderr",
     "output_type": "stream",
     "text": [
      "100%|████████████████████████████████████████████████████████████████████████████████| 299/299 [05:22<00:00,  1.08s/it]\n"
     ]
    },
    {
     "name": "stdout",
     "output_type": "stream",
     "text": [
      "Epoch: [82]  loss: [0.47] Accuracy [82.89] \n",
      "validation\n"
     ]
    },
    {
     "name": "stderr",
     "output_type": "stream",
     "text": [
      "100%|██████████████████████████████████████████████████████████████████████████████████| 30/30 [00:11<00:00,  2.68it/s]\n"
     ]
    },
    {
     "name": "stdout",
     "output_type": "stream",
     "text": [
      "\n",
      "Validation Epoch #82\t\t\tLoss: 0.2469 Acc@1: 95.81%\n",
      "not multiple GPU\n",
      "Training\n"
     ]
    },
    {
     "name": "stderr",
     "output_type": "stream",
     "text": [
      "100%|████████████████████████████████████████████████████████████████████████████████| 299/299 [05:17<00:00,  1.06s/it]\n"
     ]
    },
    {
     "name": "stdout",
     "output_type": "stream",
     "text": [
      "Epoch: [83]  loss: [0.45] Accuracy [83.36] \n",
      "validation\n"
     ]
    },
    {
     "name": "stderr",
     "output_type": "stream",
     "text": [
      "100%|██████████████████████████████████████████████████████████████████████████████████| 30/30 [00:10<00:00,  2.76it/s]\n"
     ]
    },
    {
     "name": "stdout",
     "output_type": "stream",
     "text": [
      "\n",
      "Validation Epoch #83\t\t\tLoss: 0.2338 Acc@1: 96.13%\n",
      "not multiple GPU\n",
      "Training\n"
     ]
    },
    {
     "name": "stderr",
     "output_type": "stream",
     "text": [
      "100%|████████████████████████████████████████████████████████████████████████████████| 299/299 [05:21<00:00,  1.07s/it]\n"
     ]
    },
    {
     "name": "stdout",
     "output_type": "stream",
     "text": [
      "Epoch: [84]  loss: [0.44] Accuracy [83.86] \n",
      "validation\n"
     ]
    },
    {
     "name": "stderr",
     "output_type": "stream",
     "text": [
      "100%|██████████████████████████████████████████████████████████████████████████████████| 30/30 [00:11<00:00,  2.67it/s]\n"
     ]
    },
    {
     "name": "stdout",
     "output_type": "stream",
     "text": [
      "\n",
      "Validation Epoch #84\t\t\tLoss: 0.2329 Acc@1: 97.07%\n",
      "not multiple GPU\n",
      "Training\n"
     ]
    },
    {
     "name": "stderr",
     "output_type": "stream",
     "text": [
      "100%|████████████████████████████████████████████████████████████████████████████████| 299/299 [05:17<00:00,  1.06s/it]\n"
     ]
    },
    {
     "name": "stdout",
     "output_type": "stream",
     "text": [
      "Epoch: [85]  loss: [0.41] Accuracy [84.69] \n",
      "validation\n"
     ]
    },
    {
     "name": "stderr",
     "output_type": "stream",
     "text": [
      "100%|██████████████████████████████████████████████████████████████████████████████████| 30/30 [00:10<00:00,  2.76it/s]\n"
     ]
    },
    {
     "name": "stdout",
     "output_type": "stream",
     "text": [
      "\n",
      "Validation Epoch #85\t\t\tLoss: 0.2227 Acc@1: 97.07%\n",
      "Training\n"
     ]
    },
    {
     "name": "stderr",
     "output_type": "stream",
     "text": [
      "100%|████████████████████████████████████████████████████████████████████████████████| 299/299 [05:16<00:00,  1.06s/it]\n"
     ]
    },
    {
     "name": "stdout",
     "output_type": "stream",
     "text": [
      "Epoch: [86]  loss: [0.42] Accuracy [84.65] \n",
      "validation\n"
     ]
    },
    {
     "name": "stderr",
     "output_type": "stream",
     "text": [
      "100%|██████████████████████████████████████████████████████████████████████████████████| 30/30 [00:11<00:00,  2.67it/s]\n"
     ]
    },
    {
     "name": "stdout",
     "output_type": "stream",
     "text": [
      "\n",
      "Validation Epoch #86\t\t\tLoss: 0.2284 Acc@1: 96.75%\n",
      "Training\n"
     ]
    },
    {
     "name": "stderr",
     "output_type": "stream",
     "text": [
      "100%|████████████████████████████████████████████████████████████████████████████████| 299/299 [05:14<00:00,  1.05s/it]\n"
     ]
    },
    {
     "name": "stdout",
     "output_type": "stream",
     "text": [
      "Epoch: [87]  loss: [0.40] Accuracy [85.81] \n",
      "validation\n"
     ]
    },
    {
     "name": "stderr",
     "output_type": "stream",
     "text": [
      "100%|██████████████████████████████████████████████████████████████████████████████████| 30/30 [00:10<00:00,  2.76it/s]\n"
     ]
    },
    {
     "name": "stdout",
     "output_type": "stream",
     "text": [
      "\n",
      "Validation Epoch #87\t\t\tLoss: 0.2181 Acc@1: 96.34%\n",
      "Training\n"
     ]
    },
    {
     "name": "stderr",
     "output_type": "stream",
     "text": [
      "100%|████████████████████████████████████████████████████████████████████████████████| 299/299 [05:17<00:00,  1.06s/it]\n"
     ]
    },
    {
     "name": "stdout",
     "output_type": "stream",
     "text": [
      "Epoch: [88]  loss: [0.39] Accuracy [85.88] \n",
      "validation\n"
     ]
    },
    {
     "name": "stderr",
     "output_type": "stream",
     "text": [
      "100%|██████████████████████████████████████████████████████████████████████████████████| 30/30 [00:11<00:00,  2.62it/s]\n"
     ]
    },
    {
     "name": "stdout",
     "output_type": "stream",
     "text": [
      "\n",
      "Validation Epoch #88\t\t\tLoss: 0.2123 Acc@1: 96.54%\n",
      "Training\n"
     ]
    },
    {
     "name": "stderr",
     "output_type": "stream",
     "text": [
      "100%|████████████████████████████████████████████████████████████████████████████████| 299/299 [05:15<00:00,  1.06s/it]\n"
     ]
    },
    {
     "name": "stdout",
     "output_type": "stream",
     "text": [
      "Epoch: [89]  loss: [0.39] Accuracy [85.96] \n",
      "validation\n"
     ]
    },
    {
     "name": "stderr",
     "output_type": "stream",
     "text": [
      "100%|██████████████████████████████████████████████████████████████████████████████████| 30/30 [00:11<00:00,  2.69it/s]\n"
     ]
    },
    {
     "name": "stdout",
     "output_type": "stream",
     "text": [
      "\n",
      "Validation Epoch #89\t\t\tLoss: 0.1854 Acc@1: 97.28%\n",
      "not multiple GPU\n",
      "Training\n"
     ]
    },
    {
     "name": "stderr",
     "output_type": "stream",
     "text": [
      "100%|████████████████████████████████████████████████████████████████████████████████| 299/299 [05:22<00:00,  1.08s/it]\n"
     ]
    },
    {
     "name": "stdout",
     "output_type": "stream",
     "text": [
      "Epoch: [90]  loss: [0.36] Accuracy [86.80] \n",
      "validation\n"
     ]
    },
    {
     "name": "stderr",
     "output_type": "stream",
     "text": [
      "100%|██████████████████████████████████████████████████████████████████████████████████| 30/30 [00:10<00:00,  2.76it/s]\n"
     ]
    },
    {
     "name": "stdout",
     "output_type": "stream",
     "text": [
      "\n",
      "Validation Epoch #90\t\t\tLoss: 0.1749 Acc@1: 97.91%\n",
      "not multiple GPU\n",
      "Training\n"
     ]
    },
    {
     "name": "stderr",
     "output_type": "stream",
     "text": [
      "100%|████████████████████████████████████████████████████████████████████████████████| 299/299 [05:35<00:00,  1.12s/it]\n"
     ]
    },
    {
     "name": "stdout",
     "output_type": "stream",
     "text": [
      "Epoch: [91]  loss: [0.36] Accuracy [86.89] \n",
      "validation\n"
     ]
    },
    {
     "name": "stderr",
     "output_type": "stream",
     "text": [
      "100%|██████████████████████████████████████████████████████████████████████████████████| 30/30 [00:12<00:00,  2.37it/s]\n"
     ]
    },
    {
     "name": "stdout",
     "output_type": "stream",
     "text": [
      "\n",
      "Validation Epoch #91\t\t\tLoss: 0.1888 Acc@1: 96.86%\n",
      "Training\n"
     ]
    },
    {
     "name": "stderr",
     "output_type": "stream",
     "text": [
      "100%|████████████████████████████████████████████████████████████████████████████████| 299/299 [05:22<00:00,  1.08s/it]\n"
     ]
    },
    {
     "name": "stdout",
     "output_type": "stream",
     "text": [
      "Epoch: [92]  loss: [0.35] Accuracy [87.23] \n",
      "validation\n"
     ]
    },
    {
     "name": "stderr",
     "output_type": "stream",
     "text": [
      "100%|██████████████████████████████████████████████████████████████████████████████████| 30/30 [00:11<00:00,  2.66it/s]\n"
     ]
    },
    {
     "name": "stdout",
     "output_type": "stream",
     "text": [
      "\n",
      "Validation Epoch #92\t\t\tLoss: 0.1559 Acc@1: 98.22%\n",
      "not multiple GPU\n",
      "Training\n"
     ]
    },
    {
     "name": "stderr",
     "output_type": "stream",
     "text": [
      "100%|████████████████████████████████████████████████████████████████████████████████| 299/299 [05:15<00:00,  1.06s/it]\n"
     ]
    },
    {
     "name": "stdout",
     "output_type": "stream",
     "text": [
      "Epoch: [93]  loss: [0.35] Accuracy [87.65] \n",
      "validation\n"
     ]
    },
    {
     "name": "stderr",
     "output_type": "stream",
     "text": [
      "100%|██████████████████████████████████████████████████████████████████████████████████| 30/30 [00:13<00:00,  2.25it/s]\n"
     ]
    },
    {
     "name": "stdout",
     "output_type": "stream",
     "text": [
      "\n",
      "Validation Epoch #93\t\t\tLoss: 0.1583 Acc@1: 98.32%\n",
      "not multiple GPU\n",
      "Training\n"
     ]
    },
    {
     "name": "stderr",
     "output_type": "stream",
     "text": [
      "100%|████████████████████████████████████████████████████████████████████████████████| 299/299 [06:20<00:00,  1.27s/it]\n"
     ]
    },
    {
     "name": "stdout",
     "output_type": "stream",
     "text": [
      "Epoch: [94]  loss: [0.34] Accuracy [87.99] \n",
      "validation\n"
     ]
    },
    {
     "name": "stderr",
     "output_type": "stream",
     "text": [
      "100%|██████████████████████████████████████████████████████████████████████████████████| 30/30 [00:11<00:00,  2.64it/s]\n"
     ]
    },
    {
     "name": "stdout",
     "output_type": "stream",
     "text": [
      "\n",
      "Validation Epoch #94\t\t\tLoss: 0.1678 Acc@1: 98.22%\n",
      "Training\n"
     ]
    },
    {
     "name": "stderr",
     "output_type": "stream",
     "text": [
      "100%|████████████████████████████████████████████████████████████████████████████████| 299/299 [05:25<00:00,  1.09s/it]\n"
     ]
    },
    {
     "name": "stdout",
     "output_type": "stream",
     "text": [
      "Epoch: [95]  loss: [0.33] Accuracy [87.98] \n",
      "validation\n"
     ]
    },
    {
     "name": "stderr",
     "output_type": "stream",
     "text": [
      "100%|██████████████████████████████████████████████████████████████████████████████████| 30/30 [00:11<00:00,  2.72it/s]\n"
     ]
    },
    {
     "name": "stdout",
     "output_type": "stream",
     "text": [
      "\n",
      "Validation Epoch #95\t\t\tLoss: 0.1700 Acc@1: 97.70%\n",
      "Training\n"
     ]
    },
    {
     "name": "stderr",
     "output_type": "stream",
     "text": [
      "100%|████████████████████████████████████████████████████████████████████████████████| 299/299 [05:27<00:00,  1.10s/it]\n"
     ]
    },
    {
     "name": "stdout",
     "output_type": "stream",
     "text": [
      "Epoch: [96]  loss: [0.33] Accuracy [88.50] \n",
      "validation\n"
     ]
    },
    {
     "name": "stderr",
     "output_type": "stream",
     "text": [
      "100%|██████████████████████████████████████████████████████████████████████████████████| 30/30 [00:14<00:00,  2.08it/s]\n"
     ]
    },
    {
     "name": "stdout",
     "output_type": "stream",
     "text": [
      "\n",
      "Validation Epoch #96\t\t\tLoss: 0.1543 Acc@1: 98.53%\n",
      "not multiple GPU\n",
      "Training\n"
     ]
    },
    {
     "name": "stderr",
     "output_type": "stream",
     "text": [
      "100%|████████████████████████████████████████████████████████████████████████████████| 299/299 [05:53<00:00,  1.18s/it]\n"
     ]
    },
    {
     "name": "stdout",
     "output_type": "stream",
     "text": [
      "Epoch: [97]  loss: [0.33] Accuracy [88.37] \n",
      "validation\n"
     ]
    },
    {
     "name": "stderr",
     "output_type": "stream",
     "text": [
      "100%|██████████████████████████████████████████████████████████████████████████████████| 30/30 [00:16<00:00,  1.77it/s]\n"
     ]
    },
    {
     "name": "stdout",
     "output_type": "stream",
     "text": [
      "\n",
      "Validation Epoch #97\t\t\tLoss: 0.1569 Acc@1: 97.91%\n",
      "Training\n"
     ]
    },
    {
     "name": "stderr",
     "output_type": "stream",
     "text": [
      "100%|████████████████████████████████████████████████████████████████████████████████| 299/299 [06:08<00:00,  1.23s/it]\n"
     ]
    },
    {
     "name": "stdout",
     "output_type": "stream",
     "text": [
      "Epoch: [98]  loss: [0.33] Accuracy [88.31] \n",
      "validation\n"
     ]
    },
    {
     "name": "stderr",
     "output_type": "stream",
     "text": [
      "100%|██████████████████████████████████████████████████████████████████████████████████| 30/30 [00:13<00:00,  2.15it/s]\n"
     ]
    },
    {
     "name": "stdout",
     "output_type": "stream",
     "text": [
      "\n",
      "Validation Epoch #98\t\t\tLoss: 0.1510 Acc@1: 98.22%\n",
      "Training\n"
     ]
    },
    {
     "name": "stderr",
     "output_type": "stream",
     "text": [
      "100%|████████████████████████████████████████████████████████████████████████████████| 299/299 [06:20<00:00,  1.27s/it]\n"
     ]
    },
    {
     "name": "stdout",
     "output_type": "stream",
     "text": [
      "Epoch: [99]  loss: [0.33] Accuracy [88.41] \n",
      "validation\n"
     ]
    },
    {
     "name": "stderr",
     "output_type": "stream",
     "text": [
      "100%|██████████████████████████████████████████████████████████████████████████████████| 30/30 [00:11<00:00,  2.55it/s]\n"
     ]
    },
    {
     "name": "stdout",
     "output_type": "stream",
     "text": [
      "\n",
      "Validation Epoch #99\t\t\tLoss: 0.1528 Acc@1: 98.22%\n",
      "Training\n"
     ]
    },
    {
     "name": "stderr",
     "output_type": "stream",
     "text": [
      "100%|████████████████████████████████████████████████████████████████████████████████| 299/299 [05:53<00:00,  1.18s/it]\n"
     ]
    },
    {
     "name": "stdout",
     "output_type": "stream",
     "text": [
      "Epoch: [100]  loss: [0.31] Accuracy [89.42] \n",
      "validation\n"
     ]
    },
    {
     "name": "stderr",
     "output_type": "stream",
     "text": [
      "100%|██████████████████████████████████████████████████████████████████████████████████| 30/30 [00:12<00:00,  2.47it/s]"
     ]
    },
    {
     "name": "stdout",
     "output_type": "stream",
     "text": [
      "\n",
      "Validation Epoch #100\t\t\tLoss: 0.1531 Acc@1: 98.22%\n"
     ]
    },
    {
     "name": "stderr",
     "output_type": "stream",
     "text": [
      "\n"
     ]
    }
   ],
   "source": [
    "val_acc = []\n",
    "val_loss = []\n",
    "\n",
    "for epoch in range(0, num_epochs):\n",
    "    train(net, trainloader, optimizer, scheduler, criterion, epoch, device)\n",
    "    best_acc = validation(net, valloader, criterion, epoch, device, results_txt, model_name, val_acc, val_loss)"
   ]
  },
  {
   "cell_type": "code",
   "execution_count": 71,
   "metadata": {},
   "outputs": [
    {
     "data": {
      "image/png": "[encoded data removed]",
      "text/plain": [
       "<Figure size 1100x400 with 2 Axes>"
      ]
     },
     "metadata": {},
     "output_type": "display_data"
    }
   ],
   "source": [
    "plt.figure(figsize=(11, 4))\n",
    "\n",
    "plt.subplot(121)\n",
    "plt.plot(val_acc)\n",
    "plt.title('Accuracy Plot - Model 1')\n",
    "plt.xlabel('Epoch')\n",
    "plt.ylabel('Accuracy')\n",
    "\n",
    "plt.subplot(122)\n",
    "plt.plot(val_loss)\n",
    "plt.title('Loss Plot - Model 1')\n",
    "plt.xlabel('Epoch')\n",
    "plt.ylabel('Loss')\n",
    "\n",
    "plt.show()"
   ]
  },
  {
   "cell_type": "markdown",
   "metadata": {},
   "source": [
    "#### Model 2"
   ]
  },
  {
   "cell_type": "code",
   "execution_count": 76,
   "metadata": {},
   "outputs": [
    {
     "name": "stdout",
     "output_type": "stream",
     "text": [
      "Training\n"
     ]
    },
    {
     "name": "stderr",
     "output_type": "stream",
     "text": [
      "100%|████████████████████████████████████████████████████████████████████████████████| 299/299 [01:11<00:00,  4.17it/s]\n"
     ]
    },
    {
     "name": "stdout",
     "output_type": "stream",
     "text": [
      "Epoch: [1]  loss: [2.08] Accuracy [21.79] \n",
      "validation\n"
     ]
    },
    {
     "name": "stderr",
     "output_type": "stream",
     "text": [
      "100%|██████████████████████████████████████████████████████████████████████████████████| 30/30 [00:04<00:00,  6.32it/s]\n"
     ]
    },
    {
     "name": "stdout",
     "output_type": "stream",
     "text": [
      "\n",
      "Validation Epoch #1\t\t\tLoss: 1.8867 Acc@1: 24.50%\n",
      "Training\n"
     ]
    },
    {
     "name": "stderr",
     "output_type": "stream",
     "text": [
      "100%|████████████████████████████████████████████████████████████████████████████████| 299/299 [01:08<00:00,  4.39it/s]\n"
     ]
    },
    {
     "name": "stdout",
     "output_type": "stream",
     "text": [
      "Epoch: [2]  loss: [1.88] Accuracy [24.51] \n",
      "validation\n"
     ]
    },
    {
     "name": "stderr",
     "output_type": "stream",
     "text": [
      "100%|██████████████████████████████████████████████████████████████████████████████████| 30/30 [00:04<00:00,  6.74it/s]\n"
     ]
    },
    {
     "name": "stdout",
     "output_type": "stream",
     "text": [
      "\n",
      "Validation Epoch #2\t\t\tLoss: 1.8826 Acc@1: 28.38%\n",
      "Training\n"
     ]
    },
    {
     "name": "stderr",
     "output_type": "stream",
     "text": [
      "100%|████████████████████████████████████████████████████████████████████████████████| 299/299 [01:07<00:00,  4.46it/s]\n"
     ]
    },
    {
     "name": "stdout",
     "output_type": "stream",
     "text": [
      "Epoch: [3]  loss: [1.85] Accuracy [25.40] \n",
      "validation\n"
     ]
    },
    {
     "name": "stderr",
     "output_type": "stream",
     "text": [
      "100%|██████████████████████████████████████████████████████████████████████████████████| 30/30 [00:04<00:00,  6.91it/s]\n"
     ]
    },
    {
     "name": "stdout",
     "output_type": "stream",
     "text": [
      "\n",
      "Validation Epoch #3\t\t\tLoss: 1.8861 Acc@1: 26.28%\n",
      "Training\n"
     ]
    },
    {
     "name": "stderr",
     "output_type": "stream",
     "text": [
      "100%|████████████████████████████████████████████████████████████████████████████████| 299/299 [01:06<00:00,  4.48it/s]\n"
     ]
    },
    {
     "name": "stdout",
     "output_type": "stream",
     "text": [
      "Epoch: [4]  loss: [1.84] Accuracy [25.93] \n",
      "validation\n"
     ]
    },
    {
     "name": "stderr",
     "output_type": "stream",
     "text": [
      "100%|██████████████████████████████████████████████████████████████████████████████████| 30/30 [00:04<00:00,  6.16it/s]\n"
     ]
    },
    {
     "name": "stdout",
     "output_type": "stream",
     "text": [
      "\n",
      "Validation Epoch #4\t\t\tLoss: 1.8642 Acc@1: 26.28%\n",
      "Training\n"
     ]
    },
    {
     "name": "stderr",
     "output_type": "stream",
     "text": [
      "100%|████████████████████████████████████████████████████████████████████████████████| 299/299 [01:07<00:00,  4.41it/s]\n"
     ]
    },
    {
     "name": "stdout",
     "output_type": "stream",
     "text": [
      "Epoch: [5]  loss: [1.82] Accuracy [26.74] \n",
      "validation\n"
     ]
    },
    {
     "name": "stderr",
     "output_type": "stream",
     "text": [
      "100%|██████████████████████████████████████████████████████████████████████████████████| 30/30 [00:05<00:00,  5.68it/s]\n"
     ]
    },
    {
     "name": "stdout",
     "output_type": "stream",
     "text": [
      "\n",
      "Validation Epoch #5\t\t\tLoss: 1.8551 Acc@1: 26.28%\n",
      "Training\n"
     ]
    },
    {
     "name": "stderr",
     "output_type": "stream",
     "text": [
      "100%|████████████████████████████████████████████████████████████████████████████████| 299/299 [01:11<00:00,  4.21it/s]\n"
     ]
    },
    {
     "name": "stdout",
     "output_type": "stream",
     "text": [
      "Epoch: [6]  loss: [1.80] Accuracy [27.00] \n",
      "validation\n"
     ]
    },
    {
     "name": "stderr",
     "output_type": "stream",
     "text": [
      "100%|██████████████████████████████████████████████████████████████████████████████████| 30/30 [00:04<00:00,  6.43it/s]\n"
     ]
    },
    {
     "name": "stdout",
     "output_type": "stream",
     "text": [
      "\n",
      "Validation Epoch #6\t\t\tLoss: 1.8401 Acc@1: 26.70%\n",
      "Training\n"
     ]
    },
    {
     "name": "stderr",
     "output_type": "stream",
     "text": [
      "100%|████████████████████████████████████████████████████████████████████████████████| 299/299 [01:11<00:00,  4.19it/s]\n"
     ]
    },
    {
     "name": "stdout",
     "output_type": "stream",
     "text": [
      "Epoch: [7]  loss: [1.78] Accuracy [28.19] \n",
      "validation\n"
     ]
    },
    {
     "name": "stderr",
     "output_type": "stream",
     "text": [
      "100%|██████████████████████████████████████████████████████████████████████████████████| 30/30 [00:05<00:00,  5.62it/s]\n"
     ]
    },
    {
     "name": "stdout",
     "output_type": "stream",
     "text": [
      "\n",
      "Validation Epoch #7\t\t\tLoss: 1.8197 Acc@1: 29.63%\n",
      "Training\n"
     ]
    },
    {
     "name": "stderr",
     "output_type": "stream",
     "text": [
      "100%|████████████████████████████████████████████████████████████████████████████████| 299/299 [01:12<00:00,  4.15it/s]\n"
     ]
    },
    {
     "name": "stdout",
     "output_type": "stream",
     "text": [
      "Epoch: [8]  loss: [1.74] Accuracy [29.29] \n",
      "validation\n"
     ]
    },
    {
     "name": "stderr",
     "output_type": "stream",
     "text": [
      "100%|██████████████████████████████████████████████████████████████████████████████████| 30/30 [00:04<00:00,  6.25it/s]\n"
     ]
    },
    {
     "name": "stdout",
     "output_type": "stream",
     "text": [
      "\n",
      "Validation Epoch #8\t\t\tLoss: 1.7726 Acc@1: 34.35%\n",
      "Training\n"
     ]
    },
    {
     "name": "stderr",
     "output_type": "stream",
     "text": [
      "100%|████████████████████████████████████████████████████████████████████████████████| 299/299 [01:03<00:00,  4.68it/s]\n"
     ]
    },
    {
     "name": "stdout",
     "output_type": "stream",
     "text": [
      "Epoch: [9]  loss: [1.69] Accuracy [31.81] \n",
      "validation\n"
     ]
    },
    {
     "name": "stderr",
     "output_type": "stream",
     "text": [
      "100%|██████████████████████████████████████████████████████████████████████████████████| 30/30 [00:04<00:00,  6.40it/s]\n"
     ]
    },
    {
     "name": "stdout",
     "output_type": "stream",
     "text": [
      "\n",
      "Validation Epoch #9\t\t\tLoss: 1.7454 Acc@1: 35.39%\n",
      "Training\n"
     ]
    },
    {
     "name": "stderr",
     "output_type": "stream",
     "text": [
      "100%|████████████████████████████████████████████████████████████████████████████████| 299/299 [01:04<00:00,  4.64it/s]\n"
     ]
    },
    {
     "name": "stdout",
     "output_type": "stream",
     "text": [
      "Epoch: [10]  loss: [1.65] Accuracy [33.69] \n",
      "validation\n"
     ]
    },
    {
     "name": "stderr",
     "output_type": "stream",
     "text": [
      "100%|██████████████████████████████████████████████████████████████████████████████████| 30/30 [00:04<00:00,  6.71it/s]\n"
     ]
    },
    {
     "name": "stdout",
     "output_type": "stream",
     "text": [
      "\n",
      "Validation Epoch #10\t\t\tLoss: 1.6444 Acc@1: 40.31%\n",
      "Training\n"
     ]
    },
    {
     "name": "stderr",
     "output_type": "stream",
     "text": [
      "100%|████████████████████████████████████████████████████████████████████████████████| 299/299 [01:05<00:00,  4.60it/s]\n"
     ]
    },
    {
     "name": "stdout",
     "output_type": "stream",
     "text": [
      "Epoch: [11]  loss: [1.58] Accuracy [37.28] \n",
      "validation\n"
     ]
    },
    {
     "name": "stderr",
     "output_type": "stream",
     "text": [
      "100%|██████████████████████████████████████████████████████████████████████████████████| 30/30 [00:04<00:00,  6.37it/s]\n"
     ]
    },
    {
     "name": "stdout",
     "output_type": "stream",
     "text": [
      "\n",
      "Validation Epoch #11\t\t\tLoss: 1.5469 Acc@1: 42.30%\n",
      "Training\n"
     ]
    },
    {
     "name": "stderr",
     "output_type": "stream",
     "text": [
      "100%|████████████████████████████████████████████████████████████████████████████████| 299/299 [01:06<00:00,  4.52it/s]\n"
     ]
    },
    {
     "name": "stdout",
     "output_type": "stream",
     "text": [
      "Epoch: [12]  loss: [1.51] Accuracy [38.91] \n",
      "validation\n"
     ]
    },
    {
     "name": "stderr",
     "output_type": "stream",
     "text": [
      "100%|██████████████████████████████████████████████████████████████████████████████████| 30/30 [00:04<00:00,  6.70it/s]\n"
     ]
    },
    {
     "name": "stdout",
     "output_type": "stream",
     "text": [
      "\n",
      "Validation Epoch #12\t\t\tLoss: 1.5134 Acc@1: 44.61%\n",
      "Training\n"
     ]
    },
    {
     "name": "stderr",
     "output_type": "stream",
     "text": [
      "100%|████████████████████████████████████████████████████████████████████████████████| 299/299 [01:08<00:00,  4.37it/s]\n"
     ]
    },
    {
     "name": "stdout",
     "output_type": "stream",
     "text": [
      "Epoch: [13]  loss: [1.47] Accuracy [40.39] \n",
      "validation\n"
     ]
    },
    {
     "name": "stderr",
     "output_type": "stream",
     "text": [
      "100%|██████████████████████████████████████████████████████████████████████████████████| 30/30 [00:04<00:00,  6.53it/s]\n"
     ]
    },
    {
     "name": "stdout",
     "output_type": "stream",
     "text": [
      "\n",
      "Validation Epoch #13\t\t\tLoss: 1.4421 Acc@1: 45.97%\n",
      "Training\n"
     ]
    },
    {
     "name": "stderr",
     "output_type": "stream",
     "text": [
      "100%|████████████████████████████████████████████████████████████████████████████████| 299/299 [01:07<00:00,  4.43it/s]\n"
     ]
    },
    {
     "name": "stdout",
     "output_type": "stream",
     "text": [
      "Epoch: [14]  loss: [1.44] Accuracy [41.61] \n",
      "validation\n"
     ]
    },
    {
     "name": "stderr",
     "output_type": "stream",
     "text": [
      "100%|██████████████████████████████████████████████████████████████████████████████████| 30/30 [00:04<00:00,  6.79it/s]\n"
     ]
    },
    {
     "name": "stdout",
     "output_type": "stream",
     "text": [
      "\n",
      "Validation Epoch #14\t\t\tLoss: 1.3562 Acc@1: 47.33%\n",
      "Training\n"
     ]
    },
    {
     "name": "stderr",
     "output_type": "stream",
     "text": [
      "100%|████████████████████████████████████████████████████████████████████████████████| 299/299 [01:10<00:00,  4.24it/s]\n"
     ]
    },
    {
     "name": "stdout",
     "output_type": "stream",
     "text": [
      "Epoch: [15]  loss: [1.41] Accuracy [42.39] \n",
      "validation\n"
     ]
    },
    {
     "name": "stderr",
     "output_type": "stream",
     "text": [
      "100%|██████████████████████████████████████████████████████████████████████████████████| 30/30 [00:05<00:00,  5.66it/s]\n"
     ]
    },
    {
     "name": "stdout",
     "output_type": "stream",
     "text": [
      "\n",
      "Validation Epoch #15\t\t\tLoss: 1.3656 Acc@1: 46.28%\n",
      "Training\n"
     ]
    },
    {
     "name": "stderr",
     "output_type": "stream",
     "text": [
      "100%|████████████████████████████████████████████████████████████████████████████████| 299/299 [01:09<00:00,  4.28it/s]\n"
     ]
    },
    {
     "name": "stdout",
     "output_type": "stream",
     "text": [
      "Epoch: [16]  loss: [1.38] Accuracy [43.51] \n",
      "validation\n"
     ]
    },
    {
     "name": "stderr",
     "output_type": "stream",
     "text": [
      "100%|██████████████████████████████████████████████████████████████████████████████████| 30/30 [00:04<00:00,  6.33it/s]\n"
     ]
    },
    {
     "name": "stdout",
     "output_type": "stream",
     "text": [
      "\n",
      "Validation Epoch #16\t\t\tLoss: 1.2898 Acc@1: 51.62%\n",
      "Training\n"
     ]
    },
    {
     "name": "stderr",
     "output_type": "stream",
     "text": [
      "100%|████████████████████████████████████████████████████████████████████████████████| 299/299 [01:08<00:00,  4.38it/s]\n"
     ]
    },
    {
     "name": "stdout",
     "output_type": "stream",
     "text": [
      "Epoch: [17]  loss: [1.34] Accuracy [44.64] \n",
      "validation\n"
     ]
    },
    {
     "name": "stderr",
     "output_type": "stream",
     "text": [
      "100%|██████████████████████████████████████████████████████████████████████████████████| 30/30 [00:04<00:00,  6.89it/s]\n"
     ]
    },
    {
     "name": "stdout",
     "output_type": "stream",
     "text": [
      "\n",
      "Validation Epoch #17\t\t\tLoss: 1.2820 Acc@1: 52.15%\n",
      "Training\n"
     ]
    },
    {
     "name": "stderr",
     "output_type": "stream",
     "text": [
      "100%|████████████████████████████████████████████████████████████████████████████████| 299/299 [01:11<00:00,  4.20it/s]\n"
     ]
    },
    {
     "name": "stdout",
     "output_type": "stream",
     "text": [
      "Epoch: [18]  loss: [1.33] Accuracy [44.57] \n",
      "validation\n"
     ]
    },
    {
     "name": "stderr",
     "output_type": "stream",
     "text": [
      "100%|██████████████████████████████████████████████████████████████████████████████████| 30/30 [00:04<00:00,  6.84it/s]\n"
     ]
    },
    {
     "name": "stdout",
     "output_type": "stream",
     "text": [
      "\n",
      "Validation Epoch #18\t\t\tLoss: 1.1789 Acc@1: 55.39%\n",
      "Training\n"
     ]
    },
    {
     "name": "stderr",
     "output_type": "stream",
     "text": [
      "100%|████████████████████████████████████████████████████████████████████████████████| 299/299 [01:11<00:00,  4.18it/s]\n"
     ]
    },
    {
     "name": "stdout",
     "output_type": "stream",
     "text": [
      "Epoch: [19]  loss: [1.29] Accuracy [45.94] \n",
      "validation\n"
     ]
    },
    {
     "name": "stderr",
     "output_type": "stream",
     "text": [
      "100%|██████████████████████████████████████████████████████████████████████████████████| 30/30 [00:04<00:00,  6.10it/s]\n"
     ]
    },
    {
     "name": "stdout",
     "output_type": "stream",
     "text": [
      "\n",
      "Validation Epoch #19\t\t\tLoss: 1.1538 Acc@1: 59.48%\n",
      "Training\n"
     ]
    },
    {
     "name": "stderr",
     "output_type": "stream",
     "text": [
      "100%|████████████████████████████████████████████████████████████████████████████████| 299/299 [01:07<00:00,  4.46it/s]\n"
     ]
    },
    {
     "name": "stdout",
     "output_type": "stream",
     "text": [
      "Epoch: [20]  loss: [1.25] Accuracy [48.42] \n",
      "validation\n"
     ]
    },
    {
     "name": "stderr",
     "output_type": "stream",
     "text": [
      "100%|██████████████████████████████████████████████████████████████████████████████████| 30/30 [00:04<00:00,  6.72it/s]\n"
     ]
    },
    {
     "name": "stdout",
     "output_type": "stream",
     "text": [
      "\n",
      "Validation Epoch #20\t\t\tLoss: 1.1119 Acc@1: 58.22%\n",
      "Training\n"
     ]
    },
    {
     "name": "stderr",
     "output_type": "stream",
     "text": [
      "100%|████████████████████████████████████████████████████████████████████████████████| 299/299 [01:05<00:00,  4.55it/s]\n"
     ]
    },
    {
     "name": "stdout",
     "output_type": "stream",
     "text": [
      "Epoch: [21]  loss: [1.23] Accuracy [49.16] \n",
      "validation\n"
     ]
    },
    {
     "name": "stderr",
     "output_type": "stream",
     "text": [
      "100%|██████████████████████████████████████████████████████████████████████████████████| 30/30 [00:04<00:00,  6.52it/s]\n"
     ]
    },
    {
     "name": "stdout",
     "output_type": "stream",
     "text": [
      "\n",
      "Validation Epoch #21\t\t\tLoss: 1.1156 Acc@1: 55.71%\n",
      "Training\n"
     ]
    },
    {
     "name": "stderr",
     "output_type": "stream",
     "text": [
      "100%|████████████████████████████████████████████████████████████████████████████████| 299/299 [01:08<00:00,  4.39it/s]\n"
     ]
    },
    {
     "name": "stdout",
     "output_type": "stream",
     "text": [
      "Epoch: [22]  loss: [1.22] Accuracy [50.66] \n",
      "validation\n"
     ]
    },
    {
     "name": "stderr",
     "output_type": "stream",
     "text": [
      "100%|██████████████████████████████████████████████████████████████████████████████████| 30/30 [00:04<00:00,  6.25it/s]\n"
     ]
    },
    {
     "name": "stdout",
     "output_type": "stream",
     "text": [
      "\n",
      "Validation Epoch #22\t\t\tLoss: 1.0400 Acc@1: 58.01%\n",
      "Training\n"
     ]
    },
    {
     "name": "stderr",
     "output_type": "stream",
     "text": [
      "100%|████████████████████████████████████████████████████████████████████████████████| 299/299 [01:09<00:00,  4.32it/s]\n"
     ]
    },
    {
     "name": "stdout",
     "output_type": "stream",
     "text": [
      "Epoch: [23]  loss: [1.18] Accuracy [51.47] \n",
      "validation\n"
     ]
    },
    {
     "name": "stderr",
     "output_type": "stream",
     "text": [
      "100%|██████████████████████████████████████████████████████████████████████████████████| 30/30 [00:04<00:00,  6.25it/s]\n"
     ]
    },
    {
     "name": "stdout",
     "output_type": "stream",
     "text": [
      "\n",
      "Validation Epoch #23\t\t\tLoss: 0.9955 Acc@1: 61.05%\n",
      "Training\n"
     ]
    },
    {
     "name": "stderr",
     "output_type": "stream",
     "text": [
      "100%|████████████████████████████████████████████████████████████████████████████████| 299/299 [01:09<00:00,  4.31it/s]\n"
     ]
    },
    {
     "name": "stdout",
     "output_type": "stream",
     "text": [
      "Epoch: [24]  loss: [1.19] Accuracy [51.38] \n",
      "validation\n"
     ]
    },
    {
     "name": "stderr",
     "output_type": "stream",
     "text": [
      "100%|██████████████████████████████████████████████████████████████████████████████████| 30/30 [00:04<00:00,  6.46it/s]\n"
     ]
    },
    {
     "name": "stdout",
     "output_type": "stream",
     "text": [
      "\n",
      "Validation Epoch #24\t\t\tLoss: 1.0137 Acc@1: 60.94%\n",
      "Training\n"
     ]
    },
    {
     "name": "stderr",
     "output_type": "stream",
     "text": [
      "100%|████████████████████████████████████████████████████████████████████████████████| 299/299 [01:09<00:00,  4.28it/s]\n"
     ]
    },
    {
     "name": "stdout",
     "output_type": "stream",
     "text": [
      "Epoch: [25]  loss: [1.15] Accuracy [52.14] \n",
      "validation\n"
     ]
    },
    {
     "name": "stderr",
     "output_type": "stream",
     "text": [
      "100%|██████████████████████████████████████████████████████████████████████████████████| 30/30 [00:04<00:00,  6.03it/s]\n"
     ]
    },
    {
     "name": "stdout",
     "output_type": "stream",
     "text": [
      "\n",
      "Validation Epoch #25\t\t\tLoss: 1.0607 Acc@1: 60.00%\n",
      "Training\n"
     ]
    },
    {
     "name": "stderr",
     "output_type": "stream",
     "text": [
      "100%|████████████████████████████████████████████████████████████████████████████████| 299/299 [01:07<00:00,  4.41it/s]\n"
     ]
    },
    {
     "name": "stdout",
     "output_type": "stream",
     "text": [
      "Epoch: [26]  loss: [1.14] Accuracy [52.97] \n",
      "validation\n"
     ]
    },
    {
     "name": "stderr",
     "output_type": "stream",
     "text": [
      "100%|██████████████████████████████████████████████████████████████████████████████████| 30/30 [00:04<00:00,  6.79it/s]\n"
     ]
    },
    {
     "name": "stdout",
     "output_type": "stream",
     "text": [
      "\n",
      "Validation Epoch #26\t\t\tLoss: 0.9663 Acc@1: 64.40%\n",
      "Training\n"
     ]
    },
    {
     "name": "stderr",
     "output_type": "stream",
     "text": [
      "100%|████████████████████████████████████████████████████████████████████████████████| 299/299 [01:17<00:00,  3.88it/s]\n"
     ]
    },
    {
     "name": "stdout",
     "output_type": "stream",
     "text": [
      "Epoch: [27]  loss: [1.13] Accuracy [53.82] \n",
      "validation\n"
     ]
    },
    {
     "name": "stderr",
     "output_type": "stream",
     "text": [
      "100%|██████████████████████████████████████████████████████████████████████████████████| 30/30 [00:05<00:00,  5.31it/s]\n"
     ]
    },
    {
     "name": "stdout",
     "output_type": "stream",
     "text": [
      "\n",
      "Validation Epoch #27\t\t\tLoss: 0.9397 Acc@1: 65.55%\n",
      "Training\n"
     ]
    },
    {
     "name": "stderr",
     "output_type": "stream",
     "text": [
      "100%|████████████████████████████████████████████████████████████████████████████████| 299/299 [01:24<00:00,  3.53it/s]\n"
     ]
    },
    {
     "name": "stdout",
     "output_type": "stream",
     "text": [
      "Epoch: [28]  loss: [1.11] Accuracy [54.44] \n",
      "validation\n"
     ]
    },
    {
     "name": "stderr",
     "output_type": "stream",
     "text": [
      "100%|██████████████████████████████████████████████████████████████████████████████████| 30/30 [00:04<00:00,  6.80it/s]\n"
     ]
    },
    {
     "name": "stdout",
     "output_type": "stream",
     "text": [
      "\n",
      "Validation Epoch #28\t\t\tLoss: 0.9481 Acc@1: 64.71%\n",
      "Training\n"
     ]
    },
    {
     "name": "stderr",
     "output_type": "stream",
     "text": [
      "100%|████████████████████████████████████████████████████████████████████████████████| 299/299 [01:11<00:00,  4.18it/s]\n"
     ]
    },
    {
     "name": "stdout",
     "output_type": "stream",
     "text": [
      "Epoch: [29]  loss: [1.09] Accuracy [55.98] \n",
      "validation\n"
     ]
    },
    {
     "name": "stderr",
     "output_type": "stream",
     "text": [
      "100%|██████████████████████████████████████████████████████████████████████████████████| 30/30 [00:04<00:00,  6.21it/s]\n"
     ]
    },
    {
     "name": "stdout",
     "output_type": "stream",
     "text": [
      "\n",
      "Validation Epoch #29\t\t\tLoss: 0.9201 Acc@1: 64.82%\n",
      "Training\n"
     ]
    },
    {
     "name": "stderr",
     "output_type": "stream",
     "text": [
      "100%|████████████████████████████████████████████████████████████████████████████████| 299/299 [01:11<00:00,  4.20it/s]\n"
     ]
    },
    {
     "name": "stdout",
     "output_type": "stream",
     "text": [
      "Epoch: [30]  loss: [1.09] Accuracy [55.13] \n",
      "validation\n"
     ]
    },
    {
     "name": "stderr",
     "output_type": "stream",
     "text": [
      "100%|██████████████████████████████████████████████████████████████████████████████████| 30/30 [00:04<00:00,  6.87it/s]\n"
     ]
    },
    {
     "name": "stdout",
     "output_type": "stream",
     "text": [
      "\n",
      "Validation Epoch #30\t\t\tLoss: 0.9236 Acc@1: 68.06%\n",
      "Training\n"
     ]
    },
    {
     "name": "stderr",
     "output_type": "stream",
     "text": [
      "100%|████████████████████████████████████████████████████████████████████████████████| 299/299 [01:10<00:00,  4.26it/s]\n"
     ]
    },
    {
     "name": "stdout",
     "output_type": "stream",
     "text": [
      "Epoch: [31]  loss: [1.07] Accuracy [55.50] \n",
      "validation\n"
     ]
    },
    {
     "name": "stderr",
     "output_type": "stream",
     "text": [
      "100%|██████████████████████████████████████████████████████████████████████████████████| 30/30 [00:04<00:00,  6.36it/s]\n"
     ]
    },
    {
     "name": "stdout",
     "output_type": "stream",
     "text": [
      "\n",
      "Validation Epoch #31\t\t\tLoss: 0.8774 Acc@1: 65.13%\n",
      "Training\n"
     ]
    },
    {
     "name": "stderr",
     "output_type": "stream",
     "text": [
      "100%|████████████████████████████████████████████████████████████████████████████████| 299/299 [01:10<00:00,  4.23it/s]\n"
     ]
    },
    {
     "name": "stdout",
     "output_type": "stream",
     "text": [
      "Epoch: [32]  loss: [1.06] Accuracy [55.87] \n",
      "validation\n"
     ]
    },
    {
     "name": "stderr",
     "output_type": "stream",
     "text": [
      "100%|██████████████████████████████████████████████████████████████████████████████████| 30/30 [00:05<00:00,  5.49it/s]\n"
     ]
    },
    {
     "name": "stdout",
     "output_type": "stream",
     "text": [
      "\n",
      "Validation Epoch #32\t\t\tLoss: 0.7718 Acc@1: 70.99%\n",
      "Training\n"
     ]
    },
    {
     "name": "stderr",
     "output_type": "stream",
     "text": [
      "100%|████████████████████████████████████████████████████████████████████████████████| 299/299 [01:13<00:00,  4.05it/s]\n"
     ]
    },
    {
     "name": "stdout",
     "output_type": "stream",
     "text": [
      "Epoch: [33]  loss: [1.03] Accuracy [57.98] \n",
      "validation\n"
     ]
    },
    {
     "name": "stderr",
     "output_type": "stream",
     "text": [
      "100%|██████████████████████████████████████████████████████████████████████████████████| 30/30 [00:05<00:00,  5.64it/s]\n"
     ]
    },
    {
     "name": "stdout",
     "output_type": "stream",
     "text": [
      "\n",
      "Validation Epoch #33\t\t\tLoss: 0.8538 Acc@1: 70.05%\n",
      "Training\n"
     ]
    },
    {
     "name": "stderr",
     "output_type": "stream",
     "text": [
      "100%|████████████████████████████████████████████████████████████████████████████████| 299/299 [01:12<00:00,  4.13it/s]\n"
     ]
    },
    {
     "name": "stdout",
     "output_type": "stream",
     "text": [
      "Epoch: [34]  loss: [1.02] Accuracy [58.60] \n",
      "validation\n"
     ]
    },
    {
     "name": "stderr",
     "output_type": "stream",
     "text": [
      "100%|██████████████████████████████████████████████████████████████████████████████████| 30/30 [00:04<00:00,  6.72it/s]\n"
     ]
    },
    {
     "name": "stdout",
     "output_type": "stream",
     "text": [
      "\n",
      "Validation Epoch #34\t\t\tLoss: 0.8130 Acc@1: 71.20%\n",
      "Training\n"
     ]
    },
    {
     "name": "stderr",
     "output_type": "stream",
     "text": [
      "100%|████████████████████████████████████████████████████████████████████████████████| 299/299 [01:11<00:00,  4.15it/s]\n"
     ]
    },
    {
     "name": "stdout",
     "output_type": "stream",
     "text": [
      "Epoch: [35]  loss: [1.00] Accuracy [59.04] \n",
      "validation\n"
     ]
    },
    {
     "name": "stderr",
     "output_type": "stream",
     "text": [
      "100%|██████████████████████████████████████████████████████████████████████████████████| 30/30 [00:05<00:00,  5.89it/s]\n"
     ]
    },
    {
     "name": "stdout",
     "output_type": "stream",
     "text": [
      "\n",
      "Validation Epoch #35\t\t\tLoss: 0.7336 Acc@1: 74.14%\n",
      "Training\n"
     ]
    },
    {
     "name": "stderr",
     "output_type": "stream",
     "text": [
      "100%|████████████████████████████████████████████████████████████████████████████████| 299/299 [01:22<00:00,  3.63it/s]\n"
     ]
    },
    {
     "name": "stdout",
     "output_type": "stream",
     "text": [
      "Epoch: [36]  loss: [0.98] Accuracy [60.01] \n",
      "validation\n"
     ]
    },
    {
     "name": "stderr",
     "output_type": "stream",
     "text": [
      "100%|██████████████████████████████████████████████████████████████████████████████████| 30/30 [00:06<00:00,  4.76it/s]\n"
     ]
    },
    {
     "name": "stdout",
     "output_type": "stream",
     "text": [
      "\n",
      "Validation Epoch #36\t\t\tLoss: 0.7444 Acc@1: 70.68%\n",
      "Training\n"
     ]
    },
    {
     "name": "stderr",
     "output_type": "stream",
     "text": [
      "100%|████████████████████████████████████████████████████████████████████████████████| 299/299 [01:17<00:00,  3.85it/s]\n"
     ]
    },
    {
     "name": "stdout",
     "output_type": "stream",
     "text": [
      "Epoch: [37]  loss: [0.98] Accuracy [60.28] \n",
      "validation\n"
     ]
    },
    {
     "name": "stderr",
     "output_type": "stream",
     "text": [
      "100%|██████████████████████████████████████████████████████████████████████████████████| 30/30 [00:05<00:00,  5.89it/s]\n"
     ]
    },
    {
     "name": "stdout",
     "output_type": "stream",
     "text": [
      "\n",
      "Validation Epoch #37\t\t\tLoss: 0.7479 Acc@1: 73.19%\n",
      "Training\n"
     ]
    },
    {
     "name": "stderr",
     "output_type": "stream",
     "text": [
      "100%|████████████████████████████████████████████████████████████████████████████████| 299/299 [01:14<00:00,  4.04it/s]\n"
     ]
    },
    {
     "name": "stdout",
     "output_type": "stream",
     "text": [
      "Epoch: [38]  loss: [0.95] Accuracy [61.08] \n",
      "validation\n"
     ]
    },
    {
     "name": "stderr",
     "output_type": "stream",
     "text": [
      "100%|██████████████████████████████████████████████████████████████████████████████████| 30/30 [00:04<00:00,  6.44it/s]\n"
     ]
    },
    {
     "name": "stdout",
     "output_type": "stream",
     "text": [
      "\n",
      "Validation Epoch #38\t\t\tLoss: 0.7453 Acc@1: 73.40%\n",
      "Training\n"
     ]
    },
    {
     "name": "stderr",
     "output_type": "stream",
     "text": [
      "100%|████████████████████████████████████████████████████████████████████████████████| 299/299 [01:06<00:00,  4.52it/s]\n"
     ]
    },
    {
     "name": "stdout",
     "output_type": "stream",
     "text": [
      "Epoch: [39]  loss: [0.95] Accuracy [61.85] \n",
      "validation\n"
     ]
    },
    {
     "name": "stderr",
     "output_type": "stream",
     "text": [
      "100%|██████████████████████████████████████████████████████████████████████████████████| 30/30 [00:04<00:00,  6.49it/s]\n"
     ]
    },
    {
     "name": "stdout",
     "output_type": "stream",
     "text": [
      "\n",
      "Validation Epoch #39\t\t\tLoss: 0.7457 Acc@1: 73.30%\n",
      "Training\n"
     ]
    },
    {
     "name": "stderr",
     "output_type": "stream",
     "text": [
      "100%|████████████████████████████████████████████████████████████████████████████████| 299/299 [01:08<00:00,  4.34it/s]\n"
     ]
    },
    {
     "name": "stdout",
     "output_type": "stream",
     "text": [
      "Epoch: [40]  loss: [0.91] Accuracy [63.93] \n",
      "validation\n"
     ]
    },
    {
     "name": "stderr",
     "output_type": "stream",
     "text": [
      "100%|██████████████████████████████████████████████████████████████████████████████████| 30/30 [00:05<00:00,  5.89it/s]\n"
     ]
    },
    {
     "name": "stdout",
     "output_type": "stream",
     "text": [
      "\n",
      "Validation Epoch #40\t\t\tLoss: 0.6892 Acc@1: 76.75%\n",
      "Training\n"
     ]
    },
    {
     "name": "stderr",
     "output_type": "stream",
     "text": [
      "100%|████████████████████████████████████████████████████████████████████████████████| 299/299 [01:10<00:00,  4.23it/s]\n"
     ]
    },
    {
     "name": "stdout",
     "output_type": "stream",
     "text": [
      "Epoch: [41]  loss: [0.89] Accuracy [63.27] \n",
      "validation\n"
     ]
    },
    {
     "name": "stderr",
     "output_type": "stream",
     "text": [
      "100%|██████████████████████████████████████████████████████████████████████████████████| 30/30 [00:04<00:00,  6.15it/s]\n"
     ]
    },
    {
     "name": "stdout",
     "output_type": "stream",
     "text": [
      "\n",
      "Validation Epoch #41\t\t\tLoss: 0.6065 Acc@1: 79.48%\n",
      "Training\n"
     ]
    },
    {
     "name": "stderr",
     "output_type": "stream",
     "text": [
      "100%|████████████████████████████████████████████████████████████████████████████████| 299/299 [01:10<00:00,  4.23it/s]\n"
     ]
    },
    {
     "name": "stdout",
     "output_type": "stream",
     "text": [
      "Epoch: [42]  loss: [0.88] Accuracy [65.44] \n",
      "validation\n"
     ]
    },
    {
     "name": "stderr",
     "output_type": "stream",
     "text": [
      "100%|██████████████████████████████████████████████████████████████████████████████████| 30/30 [00:05<00:00,  5.63it/s]\n"
     ]
    },
    {
     "name": "stdout",
     "output_type": "stream",
     "text": [
      "\n",
      "Validation Epoch #42\t\t\tLoss: 0.6347 Acc@1: 77.17%\n",
      "Training\n"
     ]
    },
    {
     "name": "stderr",
     "output_type": "stream",
     "text": [
      "100%|████████████████████████████████████████████████████████████████████████████████| 299/299 [01:10<00:00,  4.22it/s]\n"
     ]
    },
    {
     "name": "stdout",
     "output_type": "stream",
     "text": [
      "Epoch: [43]  loss: [0.87] Accuracy [65.17] \n",
      "validation\n"
     ]
    },
    {
     "name": "stderr",
     "output_type": "stream",
     "text": [
      "100%|██████████████████████████████████████████████████████████████████████████████████| 30/30 [00:04<00:00,  6.01it/s]\n"
     ]
    },
    {
     "name": "stdout",
     "output_type": "stream",
     "text": [
      "\n",
      "Validation Epoch #43\t\t\tLoss: 0.6119 Acc@1: 78.85%\n",
      "Training\n"
     ]
    },
    {
     "name": "stderr",
     "output_type": "stream",
     "text": [
      "100%|████████████████████████████████████████████████████████████████████████████████| 299/299 [01:11<00:00,  4.17it/s]\n"
     ]
    },
    {
     "name": "stdout",
     "output_type": "stream",
     "text": [
      "Epoch: [44]  loss: [0.86] Accuracy [65.75] \n",
      "validation\n"
     ]
    },
    {
     "name": "stderr",
     "output_type": "stream",
     "text": [
      "100%|██████████████████████████████████████████████████████████████████████████████████| 30/30 [00:04<00:00,  6.49it/s]\n"
     ]
    },
    {
     "name": "stdout",
     "output_type": "stream",
     "text": [
      "\n",
      "Validation Epoch #44\t\t\tLoss: 0.6013 Acc@1: 81.15%\n",
      "Training\n"
     ]
    },
    {
     "name": "stderr",
     "output_type": "stream",
     "text": [
      "100%|████████████████████████████████████████████████████████████████████████████████| 299/299 [01:13<00:00,  4.04it/s]\n"
     ]
    },
    {
     "name": "stdout",
     "output_type": "stream",
     "text": [
      "Epoch: [45]  loss: [0.83] Accuracy [66.67] \n",
      "validation\n"
     ]
    },
    {
     "name": "stderr",
     "output_type": "stream",
     "text": [
      "100%|██████████████████████████████████████████████████████████████████████████████████| 30/30 [00:04<00:00,  6.28it/s]\n"
     ]
    },
    {
     "name": "stdout",
     "output_type": "stream",
     "text": [
      "\n",
      "Validation Epoch #45\t\t\tLoss: 0.5533 Acc@1: 82.72%\n",
      "Training\n"
     ]
    },
    {
     "name": "stderr",
     "output_type": "stream",
     "text": [
      "100%|████████████████████████████████████████████████████████████████████████████████| 299/299 [01:11<00:00,  4.17it/s]\n"
     ]
    },
    {
     "name": "stdout",
     "output_type": "stream",
     "text": [
      "Epoch: [46]  loss: [0.83] Accuracy [67.56] \n",
      "validation\n"
     ]
    },
    {
     "name": "stderr",
     "output_type": "stream",
     "text": [
      "100%|██████████████████████████████████████████████████████████████████████████████████| 30/30 [00:05<00:00,  5.78it/s]\n"
     ]
    },
    {
     "name": "stdout",
     "output_type": "stream",
     "text": [
      "\n",
      "Validation Epoch #46\t\t\tLoss: 0.5399 Acc@1: 82.41%\n",
      "Training\n"
     ]
    },
    {
     "name": "stderr",
     "output_type": "stream",
     "text": [
      "100%|████████████████████████████████████████████████████████████████████████████████| 299/299 [01:17<00:00,  3.85it/s]\n"
     ]
    },
    {
     "name": "stdout",
     "output_type": "stream",
     "text": [
      "Epoch: [47]  loss: [0.81] Accuracy [68.46] \n",
      "validation\n"
     ]
    },
    {
     "name": "stderr",
     "output_type": "stream",
     "text": [
      "100%|██████████████████████████████████████████████████████████████████████████████████| 30/30 [00:04<00:00,  7.02it/s]\n"
     ]
    },
    {
     "name": "stdout",
     "output_type": "stream",
     "text": [
      "\n",
      "Validation Epoch #47\t\t\tLoss: 0.4981 Acc@1: 84.08%\n",
      "Training\n"
     ]
    },
    {
     "name": "stderr",
     "output_type": "stream",
     "text": [
      "100%|████████████████████████████████████████████████████████████████████████████████| 299/299 [01:16<00:00,  3.93it/s]\n"
     ]
    },
    {
     "name": "stdout",
     "output_type": "stream",
     "text": [
      "Epoch: [48]  loss: [0.79] Accuracy [68.41] \n",
      "validation\n"
     ]
    },
    {
     "name": "stderr",
     "output_type": "stream",
     "text": [
      "100%|██████████████████████████████████████████████████████████████████████████████████| 30/30 [00:04<00:00,  6.09it/s]\n"
     ]
    },
    {
     "name": "stdout",
     "output_type": "stream",
     "text": [
      "\n",
      "Validation Epoch #48\t\t\tLoss: 0.5479 Acc@1: 81.88%\n",
      "Training\n"
     ]
    },
    {
     "name": "stderr",
     "output_type": "stream",
     "text": [
      "100%|████████████████████████████████████████████████████████████████████████████████| 299/299 [01:12<00:00,  4.13it/s]\n"
     ]
    },
    {
     "name": "stdout",
     "output_type": "stream",
     "text": [
      "Epoch: [49]  loss: [0.78] Accuracy [68.85] \n",
      "validation\n"
     ]
    },
    {
     "name": "stderr",
     "output_type": "stream",
     "text": [
      "100%|██████████████████████████████████████████████████████████████████████████████████| 30/30 [00:04<00:00,  6.22it/s]\n"
     ]
    },
    {
     "name": "stdout",
     "output_type": "stream",
     "text": [
      "\n",
      "Validation Epoch #49\t\t\tLoss: 0.4864 Acc@1: 84.71%\n",
      "Training\n"
     ]
    },
    {
     "name": "stderr",
     "output_type": "stream",
     "text": [
      "100%|████████████████████████████████████████████████████████████████████████████████| 299/299 [01:20<00:00,  3.73it/s]\n"
     ]
    },
    {
     "name": "stdout",
     "output_type": "stream",
     "text": [
      "Epoch: [50]  loss: [0.78] Accuracy [69.99] \n",
      "validation\n"
     ]
    },
    {
     "name": "stderr",
     "output_type": "stream",
     "text": [
      "100%|██████████████████████████████████████████████████████████████████████████████████| 30/30 [00:06<00:00,  4.90it/s]\n"
     ]
    },
    {
     "name": "stdout",
     "output_type": "stream",
     "text": [
      "\n",
      "Validation Epoch #50\t\t\tLoss: 0.5315 Acc@1: 83.87%\n",
      "Training\n"
     ]
    },
    {
     "name": "stderr",
     "output_type": "stream",
     "text": [
      "100%|████████████████████████████████████████████████████████████████████████████████| 299/299 [01:19<00:00,  3.75it/s]\n"
     ]
    },
    {
     "name": "stdout",
     "output_type": "stream",
     "text": [
      "Epoch: [51]  loss: [0.74] Accuracy [70.89] \n",
      "validation\n"
     ]
    },
    {
     "name": "stderr",
     "output_type": "stream",
     "text": [
      "100%|██████████████████████████████████████████████████████████████████████████████████| 30/30 [00:06<00:00,  4.68it/s]\n"
     ]
    },
    {
     "name": "stdout",
     "output_type": "stream",
     "text": [
      "\n",
      "Validation Epoch #51\t\t\tLoss: 0.5091 Acc@1: 83.87%\n",
      "Training\n"
     ]
    },
    {
     "name": "stderr",
     "output_type": "stream",
     "text": [
      "100%|████████████████████████████████████████████████████████████████████████████████| 299/299 [01:10<00:00,  4.23it/s]\n"
     ]
    },
    {
     "name": "stdout",
     "output_type": "stream",
     "text": [
      "Epoch: [52]  loss: [0.74] Accuracy [70.98] \n",
      "validation\n"
     ]
    },
    {
     "name": "stderr",
     "output_type": "stream",
     "text": [
      "100%|██████████████████████████████████████████████████████████████████████████████████| 30/30 [00:04<00:00,  6.21it/s]\n"
     ]
    },
    {
     "name": "stdout",
     "output_type": "stream",
     "text": [
      "\n",
      "Validation Epoch #52\t\t\tLoss: 0.4526 Acc@1: 86.81%\n",
      "Training\n"
     ]
    },
    {
     "name": "stderr",
     "output_type": "stream",
     "text": [
      "100%|████████████████████████████████████████████████████████████████████████████████| 299/299 [01:08<00:00,  4.35it/s]\n"
     ]
    },
    {
     "name": "stdout",
     "output_type": "stream",
     "text": [
      "Epoch: [53]  loss: [0.73] Accuracy [72.01] \n",
      "validation\n"
     ]
    },
    {
     "name": "stderr",
     "output_type": "stream",
     "text": [
      "100%|██████████████████████████████████████████████████████████████████████████████████| 30/30 [00:05<00:00,  5.85it/s]\n"
     ]
    },
    {
     "name": "stdout",
     "output_type": "stream",
     "text": [
      "\n",
      "Validation Epoch #53\t\t\tLoss: 0.4750 Acc@1: 85.86%\n",
      "Training\n"
     ]
    },
    {
     "name": "stderr",
     "output_type": "stream",
     "text": [
      "100%|████████████████████████████████████████████████████████████████████████████████| 299/299 [01:19<00:00,  3.74it/s]\n"
     ]
    },
    {
     "name": "stdout",
     "output_type": "stream",
     "text": [
      "Epoch: [54]  loss: [0.72] Accuracy [71.70] \n",
      "validation\n"
     ]
    },
    {
     "name": "stderr",
     "output_type": "stream",
     "text": [
      "100%|██████████████████████████████████████████████████████████████████████████████████| 30/30 [00:04<00:00,  6.26it/s]\n"
     ]
    },
    {
     "name": "stdout",
     "output_type": "stream",
     "text": [
      "\n",
      "Validation Epoch #54\t\t\tLoss: 0.4752 Acc@1: 85.03%\n",
      "Training\n"
     ]
    },
    {
     "name": "stderr",
     "output_type": "stream",
     "text": [
      "100%|████████████████████████████████████████████████████████████████████████████████| 299/299 [01:21<00:00,  3.67it/s]\n"
     ]
    },
    {
     "name": "stdout",
     "output_type": "stream",
     "text": [
      "Epoch: [55]  loss: [0.70] Accuracy [72.52] \n",
      "validation\n"
     ]
    },
    {
     "name": "stderr",
     "output_type": "stream",
     "text": [
      "100%|██████████████████████████████████████████████████████████████████████████████████| 30/30 [00:05<00:00,  5.47it/s]\n"
     ]
    },
    {
     "name": "stdout",
     "output_type": "stream",
     "text": [
      "\n",
      "Validation Epoch #55\t\t\tLoss: 0.4234 Acc@1: 88.27%\n",
      "Training\n"
     ]
    },
    {
     "name": "stderr",
     "output_type": "stream",
     "text": [
      "100%|████████████████████████████████████████████████████████████████████████████████| 299/299 [01:11<00:00,  4.19it/s]\n"
     ]
    },
    {
     "name": "stdout",
     "output_type": "stream",
     "text": [
      "Epoch: [56]  loss: [0.70] Accuracy [72.99] \n",
      "validation\n"
     ]
    },
    {
     "name": "stderr",
     "output_type": "stream",
     "text": [
      "100%|██████████████████████████████████████████████████████████████████████████████████| 30/30 [00:04<00:00,  6.10it/s]\n"
     ]
    },
    {
     "name": "stdout",
     "output_type": "stream",
     "text": [
      "\n",
      "Validation Epoch #56\t\t\tLoss: 0.4398 Acc@1: 87.64%\n",
      "Training\n"
     ]
    },
    {
     "name": "stderr",
     "output_type": "stream",
     "text": [
      "100%|████████████████████████████████████████████████████████████████████████████████| 299/299 [01:10<00:00,  4.27it/s]\n"
     ]
    },
    {
     "name": "stdout",
     "output_type": "stream",
     "text": [
      "Epoch: [57]  loss: [0.69] Accuracy [73.25] \n",
      "validation\n"
     ]
    },
    {
     "name": "stderr",
     "output_type": "stream",
     "text": [
      "100%|██████████████████████████████████████████████████████████████████████████████████| 30/30 [00:04<00:00,  6.78it/s]\n"
     ]
    },
    {
     "name": "stdout",
     "output_type": "stream",
     "text": [
      "\n",
      "Validation Epoch #57\t\t\tLoss: 0.3717 Acc@1: 88.69%\n",
      "Training\n"
     ]
    },
    {
     "name": "stderr",
     "output_type": "stream",
     "text": [
      "100%|████████████████████████████████████████████████████████████████████████████████| 299/299 [01:08<00:00,  4.37it/s]\n"
     ]
    },
    {
     "name": "stdout",
     "output_type": "stream",
     "text": [
      "Epoch: [58]  loss: [0.66] Accuracy [74.41] \n",
      "validation\n"
     ]
    },
    {
     "name": "stderr",
     "output_type": "stream",
     "text": [
      "100%|██████████████████████████████████████████████████████████████████████████████████| 30/30 [00:04<00:00,  6.81it/s]\n"
     ]
    },
    {
     "name": "stdout",
     "output_type": "stream",
     "text": [
      "\n",
      "Validation Epoch #58\t\t\tLoss: 0.4172 Acc@1: 87.85%\n",
      "Training\n"
     ]
    },
    {
     "name": "stderr",
     "output_type": "stream",
     "text": [
      "100%|████████████████████████████████████████████████████████████████████████████████| 299/299 [01:11<00:00,  4.15it/s]\n"
     ]
    },
    {
     "name": "stdout",
     "output_type": "stream",
     "text": [
      "Epoch: [59]  loss: [0.67] Accuracy [74.25] \n",
      "validation\n"
     ]
    },
    {
     "name": "stderr",
     "output_type": "stream",
     "text": [
      "100%|██████████████████████████████████████████████████████████████████████████████████| 30/30 [00:04<00:00,  6.67it/s]\n"
     ]
    },
    {
     "name": "stdout",
     "output_type": "stream",
     "text": [
      "\n",
      "Validation Epoch #59\t\t\tLoss: 0.3952 Acc@1: 87.96%\n",
      "Training\n"
     ]
    },
    {
     "name": "stderr",
     "output_type": "stream",
     "text": [
      "100%|████████████████████████████████████████████████████████████████████████████████| 299/299 [01:08<00:00,  4.34it/s]\n"
     ]
    },
    {
     "name": "stdout",
     "output_type": "stream",
     "text": [
      "Epoch: [60]  loss: [0.65] Accuracy [75.15] \n",
      "validation\n"
     ]
    },
    {
     "name": "stderr",
     "output_type": "stream",
     "text": [
      "100%|██████████████████████████████████████████████████████████████████████████████████| 30/30 [00:04<00:00,  6.02it/s]\n"
     ]
    },
    {
     "name": "stdout",
     "output_type": "stream",
     "text": [
      "\n",
      "Validation Epoch #60\t\t\tLoss: 0.3691 Acc@1: 89.84%\n",
      "Training\n"
     ]
    },
    {
     "name": "stderr",
     "output_type": "stream",
     "text": [
      "100%|████████████████████████████████████████████████████████████████████████████████| 299/299 [01:08<00:00,  4.38it/s]\n"
     ]
    },
    {
     "name": "stdout",
     "output_type": "stream",
     "text": [
      "Epoch: [61]  loss: [0.63] Accuracy [75.72] \n",
      "validation\n"
     ]
    },
    {
     "name": "stderr",
     "output_type": "stream",
     "text": [
      "100%|██████████████████████████████████████████████████████████████████████████████████| 30/30 [00:05<00:00,  5.59it/s]\n"
     ]
    },
    {
     "name": "stdout",
     "output_type": "stream",
     "text": [
      "\n",
      "Validation Epoch #61\t\t\tLoss: 0.4011 Acc@1: 89.53%\n",
      "Training\n"
     ]
    },
    {
     "name": "stderr",
     "output_type": "stream",
     "text": [
      "100%|████████████████████████████████████████████████████████████████████████████████| 299/299 [01:10<00:00,  4.26it/s]\n"
     ]
    },
    {
     "name": "stdout",
     "output_type": "stream",
     "text": [
      "Epoch: [62]  loss: [0.63] Accuracy [75.72] \n",
      "validation\n"
     ]
    },
    {
     "name": "stderr",
     "output_type": "stream",
     "text": [
      "100%|██████████████████████████████████████████████████████████████████████████████████| 30/30 [00:04<00:00,  6.95it/s]\n"
     ]
    },
    {
     "name": "stdout",
     "output_type": "stream",
     "text": [
      "\n",
      "Validation Epoch #62\t\t\tLoss: 0.3445 Acc@1: 91.94%\n",
      "Training\n"
     ]
    },
    {
     "name": "stderr",
     "output_type": "stream",
     "text": [
      "100%|████████████████████████████████████████████████████████████████████████████████| 299/299 [01:08<00:00,  4.37it/s]\n"
     ]
    },
    {
     "name": "stdout",
     "output_type": "stream",
     "text": [
      "Epoch: [63]  loss: [0.62] Accuracy [76.66] \n",
      "validation\n"
     ]
    },
    {
     "name": "stderr",
     "output_type": "stream",
     "text": [
      "100%|██████████████████████████████████████████████████████████████████████████████████| 30/30 [00:04<00:00,  6.70it/s]\n"
     ]
    },
    {
     "name": "stdout",
     "output_type": "stream",
     "text": [
      "\n",
      "Validation Epoch #63\t\t\tLoss: 0.3241 Acc@1: 91.73%\n",
      "Training\n"
     ]
    },
    {
     "name": "stderr",
     "output_type": "stream",
     "text": [
      "100%|████████████████████████████████████████████████████████████████████████████████| 299/299 [01:05<00:00,  4.54it/s]\n"
     ]
    },
    {
     "name": "stdout",
     "output_type": "stream",
     "text": [
      "Epoch: [64]  loss: [0.61] Accuracy [76.92] \n",
      "validation\n"
     ]
    },
    {
     "name": "stderr",
     "output_type": "stream",
     "text": [
      "100%|██████████████████████████████████████████████████████████████████████████████████| 30/30 [00:04<00:00,  7.06it/s]\n"
     ]
    },
    {
     "name": "stdout",
     "output_type": "stream",
     "text": [
      "\n",
      "Validation Epoch #64\t\t\tLoss: 0.3266 Acc@1: 92.36%\n",
      "Training\n"
     ]
    },
    {
     "name": "stderr",
     "output_type": "stream",
     "text": [
      "100%|████████████████████████████████████████████████████████████████████████████████| 299/299 [01:08<00:00,  4.38it/s]\n"
     ]
    },
    {
     "name": "stdout",
     "output_type": "stream",
     "text": [
      "Epoch: [65]  loss: [0.59] Accuracy [77.44] \n",
      "validation\n"
     ]
    },
    {
     "name": "stderr",
     "output_type": "stream",
     "text": [
      "100%|██████████████████████████████████████████████████████████████████████████████████| 30/30 [00:05<00:00,  5.78it/s]\n"
     ]
    },
    {
     "name": "stdout",
     "output_type": "stream",
     "text": [
      "\n",
      "Validation Epoch #65\t\t\tLoss: 0.3027 Acc@1: 92.77%\n",
      "Training\n"
     ]
    },
    {
     "name": "stderr",
     "output_type": "stream",
     "text": [
      "100%|████████████████████████████████████████████████████████████████████████████████| 299/299 [01:12<00:00,  4.11it/s]\n"
     ]
    },
    {
     "name": "stdout",
     "output_type": "stream",
     "text": [
      "Epoch: [66]  loss: [0.60] Accuracy [76.80] \n",
      "validation\n"
     ]
    },
    {
     "name": "stderr",
     "output_type": "stream",
     "text": [
      "100%|██████████████████████████████████████████████████████████████████████████████████| 30/30 [00:04<00:00,  6.65it/s]\n"
     ]
    },
    {
     "name": "stdout",
     "output_type": "stream",
     "text": [
      "\n",
      "Validation Epoch #66\t\t\tLoss: 0.3119 Acc@1: 92.88%\n",
      "Training\n"
     ]
    },
    {
     "name": "stderr",
     "output_type": "stream",
     "text": [
      "100%|████████████████████████████████████████████████████████████████████████████████| 299/299 [01:08<00:00,  4.34it/s]\n"
     ]
    },
    {
     "name": "stdout",
     "output_type": "stream",
     "text": [
      "Epoch: [67]  loss: [0.57] Accuracy [77.79] \n",
      "validation\n"
     ]
    },
    {
     "name": "stderr",
     "output_type": "stream",
     "text": [
      "100%|██████████████████████████████████████████████████████████████████████████████████| 30/30 [00:05<00:00,  5.41it/s]\n"
     ]
    },
    {
     "name": "stdout",
     "output_type": "stream",
     "text": [
      "\n",
      "Validation Epoch #67\t\t\tLoss: 0.3025 Acc@1: 93.30%\n",
      "Training\n"
     ]
    },
    {
     "name": "stderr",
     "output_type": "stream",
     "text": [
      "100%|████████████████████████████████████████████████████████████████████████████████| 299/299 [01:15<00:00,  3.97it/s]\n"
     ]
    },
    {
     "name": "stdout",
     "output_type": "stream",
     "text": [
      "Epoch: [68]  loss: [0.57] Accuracy [78.32] \n",
      "validation\n"
     ]
    },
    {
     "name": "stderr",
     "output_type": "stream",
     "text": [
      "100%|██████████████████████████████████████████████████████████████████████████████████| 30/30 [00:04<00:00,  6.72it/s]\n"
     ]
    },
    {
     "name": "stdout",
     "output_type": "stream",
     "text": [
      "\n",
      "Validation Epoch #68\t\t\tLoss: 0.2971 Acc@1: 93.40%\n",
      "Training\n"
     ]
    },
    {
     "name": "stderr",
     "output_type": "stream",
     "text": [
      "100%|████████████████████████████████████████████████████████████████████████████████| 299/299 [01:12<00:00,  4.11it/s]\n"
     ]
    },
    {
     "name": "stdout",
     "output_type": "stream",
     "text": [
      "Epoch: [69]  loss: [0.55] Accuracy [79.07] \n",
      "validation\n"
     ]
    },
    {
     "name": "stderr",
     "output_type": "stream",
     "text": [
      "100%|██████████████████████████████████████████████████████████████████████████████████| 30/30 [00:05<00:00,  5.85it/s]\n"
     ]
    },
    {
     "name": "stdout",
     "output_type": "stream",
     "text": [
      "\n",
      "Validation Epoch #69\t\t\tLoss: 0.2754 Acc@1: 93.51%\n",
      "Training\n"
     ]
    },
    {
     "name": "stderr",
     "output_type": "stream",
     "text": [
      "100%|████████████████████████████████████████████████████████████████████████████████| 299/299 [01:16<00:00,  3.90it/s]\n"
     ]
    },
    {
     "name": "stdout",
     "output_type": "stream",
     "text": [
      "Epoch: [70]  loss: [0.56] Accuracy [78.78] \n",
      "validation\n"
     ]
    },
    {
     "name": "stderr",
     "output_type": "stream",
     "text": [
      "100%|██████████████████████████████████████████████████████████████████████████████████| 30/30 [00:09<00:00,  3.14it/s]\n"
     ]
    },
    {
     "name": "stdout",
     "output_type": "stream",
     "text": [
      "\n",
      "Validation Epoch #70\t\t\tLoss: 0.2789 Acc@1: 91.20%\n",
      "Training\n"
     ]
    },
    {
     "name": "stderr",
     "output_type": "stream",
     "text": [
      "100%|████████████████████████████████████████████████████████████████████████████████| 299/299 [01:24<00:00,  3.55it/s]\n"
     ]
    },
    {
     "name": "stdout",
     "output_type": "stream",
     "text": [
      "Epoch: [71]  loss: [0.54] Accuracy [79.10] \n",
      "validation\n"
     ]
    },
    {
     "name": "stderr",
     "output_type": "stream",
     "text": [
      "100%|██████████████████████████████████████████████████████████████████████████████████| 30/30 [00:05<00:00,  5.48it/s]\n"
     ]
    },
    {
     "name": "stdout",
     "output_type": "stream",
     "text": [
      "\n",
      "Validation Epoch #71\t\t\tLoss: 0.2785 Acc@1: 92.36%\n",
      "Training\n"
     ]
    },
    {
     "name": "stderr",
     "output_type": "stream",
     "text": [
      "100%|████████████████████████████████████████████████████████████████████████████████| 299/299 [01:14<00:00,  4.02it/s]\n"
     ]
    },
    {
     "name": "stdout",
     "output_type": "stream",
     "text": [
      "Epoch: [72]  loss: [0.53] Accuracy [79.68] \n",
      "validation\n"
     ]
    },
    {
     "name": "stderr",
     "output_type": "stream",
     "text": [
      "100%|██████████████████████████████████████████████████████████████████████████████████| 30/30 [00:05<00:00,  5.05it/s]\n"
     ]
    },
    {
     "name": "stdout",
     "output_type": "stream",
     "text": [
      "\n",
      "Validation Epoch #72\t\t\tLoss: 0.2509 Acc@1: 93.30%\n",
      "Training\n"
     ]
    },
    {
     "name": "stderr",
     "output_type": "stream",
     "text": [
      "100%|████████████████████████████████████████████████████████████████████████████████| 299/299 [01:05<00:00,  4.56it/s]\n"
     ]
    },
    {
     "name": "stdout",
     "output_type": "stream",
     "text": [
      "Epoch: [73]  loss: [0.52] Accuracy [80.82] \n",
      "validation\n"
     ]
    },
    {
     "name": "stderr",
     "output_type": "stream",
     "text": [
      "100%|██████████████████████████████████████████████████████████████████████████████████| 30/30 [00:04<00:00,  6.90it/s]\n"
     ]
    },
    {
     "name": "stdout",
     "output_type": "stream",
     "text": [
      "\n",
      "Validation Epoch #73\t\t\tLoss: 0.2486 Acc@1: 95.29%\n",
      "Training\n"
     ]
    },
    {
     "name": "stderr",
     "output_type": "stream",
     "text": [
      "100%|████████████████████████████████████████████████████████████████████████████████| 299/299 [01:08<00:00,  4.34it/s]\n"
     ]
    },
    {
     "name": "stdout",
     "output_type": "stream",
     "text": [
      "Epoch: [74]  loss: [0.52] Accuracy [80.72] \n",
      "validation\n"
     ]
    },
    {
     "name": "stderr",
     "output_type": "stream",
     "text": [
      "100%|██████████████████████████████████████████████████████████████████████████████████| 30/30 [00:04<00:00,  6.77it/s]\n"
     ]
    },
    {
     "name": "stdout",
     "output_type": "stream",
     "text": [
      "\n",
      "Validation Epoch #74\t\t\tLoss: 0.2425 Acc@1: 95.60%\n",
      "Training\n"
     ]
    },
    {
     "name": "stderr",
     "output_type": "stream",
     "text": [
      "100%|████████████████████████████████████████████████████████████████████████████████| 299/299 [01:05<00:00,  4.57it/s]\n"
     ]
    },
    {
     "name": "stdout",
     "output_type": "stream",
     "text": [
      "Epoch: [75]  loss: [0.52] Accuracy [80.58] \n",
      "validation\n"
     ]
    },
    {
     "name": "stderr",
     "output_type": "stream",
     "text": [
      "100%|██████████████████████████████████████████████████████████████████████████████████| 30/30 [00:04<00:00,  6.83it/s]\n"
     ]
    },
    {
     "name": "stdout",
     "output_type": "stream",
     "text": [
      "\n",
      "Validation Epoch #75\t\t\tLoss: 0.2268 Acc@1: 94.35%\n",
      "Training\n"
     ]
    },
    {
     "name": "stderr",
     "output_type": "stream",
     "text": [
      "100%|████████████████████████████████████████████████████████████████████████████████| 299/299 [01:07<00:00,  4.45it/s]\n"
     ]
    },
    {
     "name": "stdout",
     "output_type": "stream",
     "text": [
      "Epoch: [76]  loss: [0.49] Accuracy [81.77] \n",
      "validation\n"
     ]
    },
    {
     "name": "stderr",
     "output_type": "stream",
     "text": [
      "100%|██████████████████████████████████████████████████████████████████████████████████| 30/30 [00:04<00:00,  6.49it/s]\n"
     ]
    },
    {
     "name": "stdout",
     "output_type": "stream",
     "text": [
      "\n",
      "Validation Epoch #76\t\t\tLoss: 0.2239 Acc@1: 94.14%\n",
      "Training\n"
     ]
    },
    {
     "name": "stderr",
     "output_type": "stream",
     "text": [
      "100%|████████████████████████████████████████████████████████████████████████████████| 299/299 [01:04<00:00,  4.61it/s]\n"
     ]
    },
    {
     "name": "stdout",
     "output_type": "stream",
     "text": [
      "Epoch: [77]  loss: [0.49] Accuracy [81.96] \n",
      "validation\n"
     ]
    },
    {
     "name": "stderr",
     "output_type": "stream",
     "text": [
      "100%|██████████████████████████████████████████████████████████████████████████████████| 30/30 [00:04<00:00,  6.81it/s]\n"
     ]
    },
    {
     "name": "stdout",
     "output_type": "stream",
     "text": [
      "\n",
      "Validation Epoch #77\t\t\tLoss: 0.2153 Acc@1: 95.29%\n",
      "Training\n"
     ]
    },
    {
     "name": "stderr",
     "output_type": "stream",
     "text": [
      "100%|████████████████████████████████████████████████████████████████████████████████| 299/299 [01:08<00:00,  4.37it/s]\n"
     ]
    },
    {
     "name": "stdout",
     "output_type": "stream",
     "text": [
      "Epoch: [78]  loss: [0.49] Accuracy [82.05] \n",
      "validation\n"
     ]
    },
    {
     "name": "stderr",
     "output_type": "stream",
     "text": [
      "100%|██████████████████████████████████████████████████████████████████████████████████| 30/30 [00:04<00:00,  6.17it/s]\n"
     ]
    },
    {
     "name": "stdout",
     "output_type": "stream",
     "text": [
      "\n",
      "Validation Epoch #78\t\t\tLoss: 0.2165 Acc@1: 95.39%\n",
      "Training\n"
     ]
    },
    {
     "name": "stderr",
     "output_type": "stream",
     "text": [
      "100%|████████████████████████████████████████████████████████████████████████████████| 299/299 [01:09<00:00,  4.30it/s]\n"
     ]
    },
    {
     "name": "stdout",
     "output_type": "stream",
     "text": [
      "Epoch: [79]  loss: [0.46] Accuracy [82.63] \n",
      "validation\n"
     ]
    },
    {
     "name": "stderr",
     "output_type": "stream",
     "text": [
      "100%|██████████████████████████████████████████████████████████████████████████████████| 30/30 [00:04<00:00,  6.43it/s]\n"
     ]
    },
    {
     "name": "stdout",
     "output_type": "stream",
     "text": [
      "\n",
      "Validation Epoch #79\t\t\tLoss: 0.2190 Acc@1: 94.14%\n",
      "Training\n"
     ]
    },
    {
     "name": "stderr",
     "output_type": "stream",
     "text": [
      "100%|████████████████████████████████████████████████████████████████████████████████| 299/299 [01:08<00:00,  4.37it/s]\n"
     ]
    },
    {
     "name": "stdout",
     "output_type": "stream",
     "text": [
      "Epoch: [80]  loss: [0.47] Accuracy [81.93] \n",
      "validation\n"
     ]
    },
    {
     "name": "stderr",
     "output_type": "stream",
     "text": [
      "100%|██████████████████████████████████████████████████████████████████████████████████| 30/30 [00:04<00:00,  6.54it/s]\n"
     ]
    },
    {
     "name": "stdout",
     "output_type": "stream",
     "text": [
      "\n",
      "Validation Epoch #80\t\t\tLoss: 0.1921 Acc@1: 95.60%\n",
      "Training\n"
     ]
    },
    {
     "name": "stderr",
     "output_type": "stream",
     "text": [
      "100%|████████████████████████████████████████████████████████████████████████████████| 299/299 [01:11<00:00,  4.20it/s]\n"
     ]
    },
    {
     "name": "stdout",
     "output_type": "stream",
     "text": [
      "Epoch: [81]  loss: [0.47] Accuracy [82.77] \n",
      "validation\n"
     ]
    },
    {
     "name": "stderr",
     "output_type": "stream",
     "text": [
      "100%|██████████████████████████████████████████████████████████████████████████████████| 30/30 [00:04<00:00,  6.50it/s]\n"
     ]
    },
    {
     "name": "stdout",
     "output_type": "stream",
     "text": [
      "\n",
      "Validation Epoch #81\t\t\tLoss: 0.2014 Acc@1: 95.71%\n",
      "Training\n"
     ]
    },
    {
     "name": "stderr",
     "output_type": "stream",
     "text": [
      "100%|████████████████████████████████████████████████████████████████████████████████| 299/299 [01:06<00:00,  4.48it/s]\n"
     ]
    },
    {
     "name": "stdout",
     "output_type": "stream",
     "text": [
      "Epoch: [82]  loss: [0.45] Accuracy [83.14] \n",
      "validation\n"
     ]
    },
    {
     "name": "stderr",
     "output_type": "stream",
     "text": [
      "100%|██████████████████████████████████████████████████████████████████████████████████| 30/30 [00:04<00:00,  6.54it/s]\n"
     ]
    },
    {
     "name": "stdout",
     "output_type": "stream",
     "text": [
      "\n",
      "Validation Epoch #82\t\t\tLoss: 0.1968 Acc@1: 95.60%\n",
      "Training\n"
     ]
    },
    {
     "name": "stderr",
     "output_type": "stream",
     "text": [
      "100%|████████████████████████████████████████████████████████████████████████████████| 299/299 [01:08<00:00,  4.34it/s]\n"
     ]
    },
    {
     "name": "stdout",
     "output_type": "stream",
     "text": [
      "Epoch: [83]  loss: [0.44] Accuracy [83.53] \n",
      "validation\n"
     ]
    },
    {
     "name": "stderr",
     "output_type": "stream",
     "text": [
      "100%|██████████████████████████████████████████████████████████████████████████████████| 30/30 [00:04<00:00,  6.52it/s]\n"
     ]
    },
    {
     "name": "stdout",
     "output_type": "stream",
     "text": [
      "\n",
      "Validation Epoch #83\t\t\tLoss: 0.1870 Acc@1: 96.44%\n",
      "Training\n"
     ]
    },
    {
     "name": "stderr",
     "output_type": "stream",
     "text": [
      "100%|████████████████████████████████████████████████████████████████████████████████| 299/299 [01:07<00:00,  4.46it/s]\n"
     ]
    },
    {
     "name": "stdout",
     "output_type": "stream",
     "text": [
      "Epoch: [84]  loss: [0.44] Accuracy [83.55] \n",
      "validation\n"
     ]
    },
    {
     "name": "stderr",
     "output_type": "stream",
     "text": [
      "100%|██████████████████████████████████████████████████████████████████████████████████| 30/30 [00:04<00:00,  6.68it/s]\n"
     ]
    },
    {
     "name": "stdout",
     "output_type": "stream",
     "text": [
      "\n",
      "Validation Epoch #84\t\t\tLoss: 0.1850 Acc@1: 95.92%\n",
      "Training\n"
     ]
    },
    {
     "name": "stderr",
     "output_type": "stream",
     "text": [
      "100%|████████████████████████████████████████████████████████████████████████████████| 299/299 [01:04<00:00,  4.64it/s]\n"
     ]
    },
    {
     "name": "stdout",
     "output_type": "stream",
     "text": [
      "Epoch: [85]  loss: [0.43] Accuracy [83.76] \n",
      "validation\n"
     ]
    },
    {
     "name": "stderr",
     "output_type": "stream",
     "text": [
      "100%|██████████████████████████████████████████████████████████████████████████████████| 30/30 [00:04<00:00,  6.46it/s]\n"
     ]
    },
    {
     "name": "stdout",
     "output_type": "stream",
     "text": [
      "\n",
      "Validation Epoch #85\t\t\tLoss: 0.1841 Acc@1: 96.65%\n",
      "Training\n"
     ]
    },
    {
     "name": "stderr",
     "output_type": "stream",
     "text": [
      "100%|████████████████████████████████████████████████████████████████████████████████| 299/299 [01:05<00:00,  4.53it/s]\n"
     ]
    },
    {
     "name": "stdout",
     "output_type": "stream",
     "text": [
      "Epoch: [86]  loss: [0.44] Accuracy [84.00] \n",
      "validation\n"
     ]
    },
    {
     "name": "stderr",
     "output_type": "stream",
     "text": [
      "100%|██████████████████████████████████████████████████████████████████████████████████| 30/30 [00:05<00:00,  5.30it/s]\n"
     ]
    },
    {
     "name": "stdout",
     "output_type": "stream",
     "text": [
      "\n",
      "Validation Epoch #86\t\t\tLoss: 0.1771 Acc@1: 96.96%\n",
      "Training\n"
     ]
    },
    {
     "name": "stderr",
     "output_type": "stream",
     "text": [
      "100%|████████████████████████████████████████████████████████████████████████████████| 299/299 [01:04<00:00,  4.63it/s]\n"
     ]
    },
    {
     "name": "stdout",
     "output_type": "stream",
     "text": [
      "Epoch: [87]  loss: [0.43] Accuracy [84.10] \n",
      "validation\n"
     ]
    },
    {
     "name": "stderr",
     "output_type": "stream",
     "text": [
      "100%|██████████████████████████████████████████████████████████████████████████████████| 30/30 [00:04<00:00,  6.65it/s]\n"
     ]
    },
    {
     "name": "stdout",
     "output_type": "stream",
     "text": [
      "\n",
      "Validation Epoch #87\t\t\tLoss: 0.1722 Acc@1: 97.07%\n",
      "Training\n"
     ]
    },
    {
     "name": "stderr",
     "output_type": "stream",
     "text": [
      "100%|████████████████████████████████████████████████████████████████████████████████| 299/299 [01:09<00:00,  4.33it/s]\n"
     ]
    },
    {
     "name": "stdout",
     "output_type": "stream",
     "text": [
      "Epoch: [88]  loss: [0.43] Accuracy [84.06] \n",
      "validation\n"
     ]
    },
    {
     "name": "stderr",
     "output_type": "stream",
     "text": [
      "100%|██████████████████████████████████████████████████████████████████████████████████| 30/30 [00:04<00:00,  6.39it/s]\n"
     ]
    },
    {
     "name": "stdout",
     "output_type": "stream",
     "text": [
      "\n",
      "Validation Epoch #88\t\t\tLoss: 0.1698 Acc@1: 96.65%\n",
      "Training\n"
     ]
    },
    {
     "name": "stderr",
     "output_type": "stream",
     "text": [
      "100%|████████████████████████████████████████████████████████████████████████████████| 299/299 [01:14<00:00,  4.02it/s]\n"
     ]
    },
    {
     "name": "stdout",
     "output_type": "stream",
     "text": [
      "Epoch: [89]  loss: [0.41] Accuracy [84.83] \n",
      "validation\n"
     ]
    },
    {
     "name": "stderr",
     "output_type": "stream",
     "text": [
      "100%|██████████████████████████████████████████████████████████████████████████████████| 30/30 [00:04<00:00,  6.07it/s]\n"
     ]
    },
    {
     "name": "stdout",
     "output_type": "stream",
     "text": [
      "\n",
      "Validation Epoch #89\t\t\tLoss: 0.1687 Acc@1: 96.54%\n",
      "Training\n"
     ]
    },
    {
     "name": "stderr",
     "output_type": "stream",
     "text": [
      "100%|████████████████████████████████████████████████████████████████████████████████| 299/299 [01:09<00:00,  4.30it/s]\n"
     ]
    },
    {
     "name": "stdout",
     "output_type": "stream",
     "text": [
      "Epoch: [90]  loss: [0.41] Accuracy [84.95] \n",
      "validation\n"
     ]
    },
    {
     "name": "stderr",
     "output_type": "stream",
     "text": [
      "100%|██████████████████████████████████████████████████████████████████████████████████| 30/30 [00:05<00:00,  5.51it/s]\n"
     ]
    },
    {
     "name": "stdout",
     "output_type": "stream",
     "text": [
      "\n",
      "Validation Epoch #90\t\t\tLoss: 0.1620 Acc@1: 97.07%\n",
      "Training\n"
     ]
    },
    {
     "name": "stderr",
     "output_type": "stream",
     "text": [
      "100%|████████████████████████████████████████████████████████████████████████████████| 299/299 [01:05<00:00,  4.53it/s]\n"
     ]
    },
    {
     "name": "stdout",
     "output_type": "stream",
     "text": [
      "Epoch: [91]  loss: [0.41] Accuracy [85.17] \n",
      "validation\n"
     ]
    },
    {
     "name": "stderr",
     "output_type": "stream",
     "text": [
      "100%|██████████████████████████████████████████████████████████████████████████████████| 30/30 [00:04<00:00,  6.58it/s]\n"
     ]
    },
    {
     "name": "stdout",
     "output_type": "stream",
     "text": [
      "\n",
      "Validation Epoch #91\t\t\tLoss: 0.1586 Acc@1: 97.49%\n",
      "Training\n"
     ]
    },
    {
     "name": "stderr",
     "output_type": "stream",
     "text": [
      "100%|████████████████████████████████████████████████████████████████████████████████| 299/299 [01:07<00:00,  4.46it/s]\n"
     ]
    },
    {
     "name": "stdout",
     "output_type": "stream",
     "text": [
      "Epoch: [92]  loss: [0.39] Accuracy [85.88] \n",
      "validation\n"
     ]
    },
    {
     "name": "stderr",
     "output_type": "stream",
     "text": [
      "100%|██████████████████████████████████████████████████████████████████████████████████| 30/30 [00:04<00:00,  6.62it/s]\n"
     ]
    },
    {
     "name": "stdout",
     "output_type": "stream",
     "text": [
      "\n",
      "Validation Epoch #92\t\t\tLoss: 0.1515 Acc@1: 97.38%\n",
      "Training\n"
     ]
    },
    {
     "name": "stderr",
     "output_type": "stream",
     "text": [
      "100%|████████████████████████████████████████████████████████████████████████████████| 299/299 [01:06<00:00,  4.48it/s]\n"
     ]
    },
    {
     "name": "stdout",
     "output_type": "stream",
     "text": [
      "Epoch: [93]  loss: [0.41] Accuracy [85.05] \n",
      "validation\n"
     ]
    },
    {
     "name": "stderr",
     "output_type": "stream",
     "text": [
      "100%|██████████████████████████████████████████████████████████████████████████████████| 30/30 [00:04<00:00,  6.65it/s]\n"
     ]
    },
    {
     "name": "stdout",
     "output_type": "stream",
     "text": [
      "\n",
      "Validation Epoch #93\t\t\tLoss: 0.1523 Acc@1: 97.70%\n",
      "Training\n"
     ]
    },
    {
     "name": "stderr",
     "output_type": "stream",
     "text": [
      "100%|████████████████████████████████████████████████████████████████████████████████| 299/299 [01:07<00:00,  4.44it/s]\n"
     ]
    },
    {
     "name": "stdout",
     "output_type": "stream",
     "text": [
      "Epoch: [94]  loss: [0.40] Accuracy [85.52] \n",
      "validation\n"
     ]
    },
    {
     "name": "stderr",
     "output_type": "stream",
     "text": [
      "100%|██████████████████████████████████████████████████████████████████████████████████| 30/30 [00:04<00:00,  6.85it/s]\n"
     ]
    },
    {
     "name": "stdout",
     "output_type": "stream",
     "text": [
      "\n",
      "Validation Epoch #94\t\t\tLoss: 0.1523 Acc@1: 97.38%\n",
      "Training\n"
     ]
    },
    {
     "name": "stderr",
     "output_type": "stream",
     "text": [
      "100%|████████████████████████████████████████████████████████████████████████████████| 299/299 [01:12<00:00,  4.13it/s]\n"
     ]
    },
    {
     "name": "stdout",
     "output_type": "stream",
     "text": [
      "Epoch: [95]  loss: [0.38] Accuracy [86.31] \n",
      "validation\n"
     ]
    },
    {
     "name": "stderr",
     "output_type": "stream",
     "text": [
      "100%|██████████████████████████████████████████████████████████████████████████████████| 30/30 [00:05<00:00,  5.82it/s]\n"
     ]
    },
    {
     "name": "stdout",
     "output_type": "stream",
     "text": [
      "\n",
      "Validation Epoch #95\t\t\tLoss: 0.1461 Acc@1: 98.01%\n",
      "Training\n"
     ]
    },
    {
     "name": "stderr",
     "output_type": "stream",
     "text": [
      "100%|████████████████████████████████████████████████████████████████████████████████| 299/299 [01:18<00:00,  3.80it/s]\n"
     ]
    },
    {
     "name": "stdout",
     "output_type": "stream",
     "text": [
      "Epoch: [96]  loss: [0.38] Accuracy [85.95] \n",
      "validation\n"
     ]
    },
    {
     "name": "stderr",
     "output_type": "stream",
     "text": [
      "100%|██████████████████████████████████████████████████████████████████████████████████| 30/30 [00:04<00:00,  6.86it/s]\n"
     ]
    },
    {
     "name": "stdout",
     "output_type": "stream",
     "text": [
      "\n",
      "Validation Epoch #96\t\t\tLoss: 0.1443 Acc@1: 97.59%\n",
      "Training\n"
     ]
    },
    {
     "name": "stderr",
     "output_type": "stream",
     "text": [
      "100%|████████████████████████████████████████████████████████████████████████████████| 299/299 [01:14<00:00,  4.01it/s]\n"
     ]
    },
    {
     "name": "stdout",
     "output_type": "stream",
     "text": [
      "Epoch: [97]  loss: [0.37] Accuracy [86.45] \n",
      "validation\n"
     ]
    },
    {
     "name": "stderr",
     "output_type": "stream",
     "text": [
      "100%|██████████████████████████████████████████████████████████████████████████████████| 30/30 [00:04<00:00,  6.70it/s]\n"
     ]
    },
    {
     "name": "stdout",
     "output_type": "stream",
     "text": [
      "\n",
      "Validation Epoch #97\t\t\tLoss: 0.1362 Acc@1: 97.91%\n",
      "Training\n"
     ]
    },
    {
     "name": "stderr",
     "output_type": "stream",
     "text": [
      "100%|████████████████████████████████████████████████████████████████████████████████| 299/299 [01:07<00:00,  4.43it/s]\n"
     ]
    },
    {
     "name": "stdout",
     "output_type": "stream",
     "text": [
      "Epoch: [98]  loss: [0.38] Accuracy [86.23] \n",
      "validation\n"
     ]
    },
    {
     "name": "stderr",
     "output_type": "stream",
     "text": [
      "100%|██████████████████████████████████████████████████████████████████████████████████| 30/30 [00:04<00:00,  6.53it/s]\n"
     ]
    },
    {
     "name": "stdout",
     "output_type": "stream",
     "text": [
      "\n",
      "Validation Epoch #98\t\t\tLoss: 0.1387 Acc@1: 97.38%\n",
      "Training\n"
     ]
    },
    {
     "name": "stderr",
     "output_type": "stream",
     "text": [
      "100%|████████████████████████████████████████████████████████████████████████████████| 299/299 [01:11<00:00,  4.18it/s]\n"
     ]
    },
    {
     "name": "stdout",
     "output_type": "stream",
     "text": [
      "Epoch: [99]  loss: [0.38] Accuracy [86.11] \n",
      "validation\n"
     ]
    },
    {
     "name": "stderr",
     "output_type": "stream",
     "text": [
      "100%|██████████████████████████████████████████████████████████████████████████████████| 30/30 [00:04<00:00,  6.83it/s]\n"
     ]
    },
    {
     "name": "stdout",
     "output_type": "stream",
     "text": [
      "\n",
      "Validation Epoch #99\t\t\tLoss: 0.1377 Acc@1: 97.59%\n",
      "Training\n"
     ]
    },
    {
     "name": "stderr",
     "output_type": "stream",
     "text": [
      "100%|████████████████████████████████████████████████████████████████████████████████| 299/299 [01:08<00:00,  4.35it/s]\n"
     ]
    },
    {
     "name": "stdout",
     "output_type": "stream",
     "text": [
      "Epoch: [100]  loss: [0.36] Accuracy [87.10] \n",
      "validation\n"
     ]
    },
    {
     "name": "stderr",
     "output_type": "stream",
     "text": [
      "100%|██████████████████████████████████████████████████████████████████████████████████| 30/30 [00:04<00:00,  6.03it/s]"
     ]
    },
    {
     "name": "stdout",
     "output_type": "stream",
     "text": [
      "\n",
      "Validation Epoch #100\t\t\tLoss: 0.1374 Acc@1: 98.01%\n"
     ]
    },
    {
     "name": "stderr",
     "output_type": "stream",
     "text": [
      "\n"
     ]
    }
   ],
   "source": [
    "val_acc_2 = []\n",
    "val_loss_2 = []\n",
    "\n",
    "for epoch in range(0, num_epochs):\n",
    "    train(net, trainloader, optimizer, scheduler, criterion, epoch, device)\n",
    "    best_acc = validation(net, valloader, criterion, epoch, device, results_txt, model_name, val_acc_2, val_loss_2)"
   ]
  },
  {
   "cell_type": "code",
   "execution_count": 78,
   "metadata": {},
   "outputs": [
    {
     "data": {
      "image/png": "[encoded data removed]",
      "text/plain": [
       "<Figure size 1100x400 with 2 Axes>"
      ]
     },
     "metadata": {},
     "output_type": "display_data"
    }
   ],
   "source": [
    "plt.figure(figsize=(11, 4))\n",
    "\n",
    "plt.subplot(121)\n",
    "plt.plot(val_acc_2)\n",
    "plt.title('Accuracy Plot - Model 2')\n",
    "plt.xlabel('Epoch')\n",
    "plt.ylabel('Accuracy')\n",
    "\n",
    "plt.subplot(122)\n",
    "plt.plot(val_loss_2)\n",
    "plt.title('Loss Plot - Model 2')\n",
    "plt.xlabel('Epoch')\n",
    "plt.ylabel('Loss')\n",
    "\n",
    "plt.show()"
   ]
  },
  {
   "cell_type": "markdown",
   "metadata": {},
   "source": [
    "#### Model 3"
   ]
  },
  {
   "cell_type": "code",
   "execution_count": 85,
   "metadata": {},
   "outputs": [],
   "source": [
    "val_acc_3 = []\n",
    "val_loss_3 = []\n",
    "\n",
    "for epoch in range(0, num_epochs):\n",
    "    train(net, trainloader, optimizer, scheduler, criterion, epoch, device)\n",
    "    best_acc = validation(net, valloader, criterion, epoch, device, results_txt, model_name, val_acc_3, val_loss_3)"
   ]
  },
  {
   "cell_type": "code",
   "execution_count": 86,
   "metadata": {},
   "outputs": [
    {
     "data": {
      "image/png": "[encoded data removed]",
      "text/plain": [
       "<Figure size 1100x400 with 2 Axes>"
      ]
     },
     "metadata": {},
     "output_type": "display_data"
    }
   ],
   "source": [
    "plt.figure(figsize=(11, 4))\n",
    "\n",
    "plt.subplot(121)\n",
    "plt.plot(val_acc_3)\n",
    "plt.title('Accuracy Plot - Model 3')\n",
    "plt.xlabel('Epoch')\n",
    "plt.ylabel('Accuracy')\n",
    "\n",
    "plt.subplot(122)\n",
    "plt.plot(val_loss_3)\n",
    "plt.title('Loss Plot - Model 3')\n",
    "plt.xlabel('Epoch')\n",
    "plt.ylabel('Loss')\n",
    "\n",
    "plt.show()"
   ]
  }
 ],
 "metadata": {
  "colab": {
   "provenance": []
  },
  "kernelspec": {
   "display_name": "Python 3 (ipykernel)",
   "language": "python",
   "name": "python3"
  },
  "language_info": {
   "codemirror_mode": {
    "name": "ipython",
    "version": 3
   },
   "file_extension": ".py",
   "mimetype": "text/x-python",
   "name": "python",
   "nbconvert_exporter": "python",
   "pygments_lexer": "ipython3",
   "version": "3.7.16"
  }
 },
 "nbformat": 4,
 "nbformat_minor": 1
}
